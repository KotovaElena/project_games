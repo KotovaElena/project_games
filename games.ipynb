{
  "nbformat": 4,
  "nbformat_minor": 0,
  "metadata": {
    "kernelspec": {
      "display_name": "Python 3",
      "language": "python",
      "name": "python3"
    },
    "language_info": {
      "codemirror_mode": {
        "name": "ipython",
        "version": 3
      },
      "file_extension": ".py",
      "mimetype": "text/x-python",
      "name": "python",
      "nbconvert_exporter": "python",
      "pygments_lexer": "ipython3",
      "version": "3.7.8"
    },
    "toc": {
      "base_numbering": 1,
      "nav_menu": {},
      "number_sections": true,
      "sideBar": true,
      "skip_h1_title": true,
      "title_cell": "Table of Contents",
      "title_sidebar": "Contents",
      "toc_cell": false,
      "toc_position": {},
      "toc_section_display": true,
      "toc_window_display": false
    },
    "colab": {
      "name": "games.ipynb",
      "provenance": [],
      "collapsed_sections": []
    }
  },
  "cells": [
    {
      "cell_type": "markdown",
      "metadata": {
        "id": "BFNj4xYd0yLV"
      },
      "source": [
        "# Исследование рынка игр"
      ]
    },
    {
      "cell_type": "markdown",
      "metadata": {
        "id": "YZhXNama0yLW"
      },
      "source": [
        "**Описание проекта** \n",
        "\n",
        "Вы работаете в интернет-магазине «Стримчик», который продаёт по всему миру компьютерные игры. Из открытых источников доступны исторические данные о продажах игр, оценки пользователей и экспертов, жанры и платформы (например, Xbox или PlayStation). Вам нужно выявить определяющие успешность игры закономерности. Это позволит сделать ставку на потенциально популярный продукт и спланировать рекламные кампании.  \n",
        "Перед вами данные до 2016 года. Представим, что сейчас декабрь 2016 г., и вы планируете кампанию на 2017-й. Нужно отработать принцип работы с данными. Не важно, прогнозируете ли вы продажи на 2017 год по данным 2016-го или же 2027-й — по данным 2026 года.\n"
      ]
    },
    {
      "cell_type": "markdown",
      "metadata": {
        "id": "KU-pJg8w0yLX"
      },
      "source": [
        "**Описание данных**   \n",
        "- Name — название игры\n",
        "- Platform — платформа\n",
        "- Year_of_Release — год выпуска\n",
        "- Genre — жанр игры\n",
        "- NA_sales — продажи в Северной Америке (миллионы долларов)\n",
        "- EU_sales — продажи в Европе (миллионы долларов)\n",
        "- JP_sales — продажи в Японии (миллионы долларов)\n",
        "- Other_sales — продажи в других странах (миллионы долларов)\n",
        "- Critic_Score — оценка критиков (от 0 до 100)\n",
        "- User_Score — оценка пользователей (от 0 до 10)\n",
        "- Rating — рейтинг от организации ESRB (англ. Entertainment Software Rating Board). Эта ассоциация определяет рейтинг компьютерных игр и присваивает им подходящую возрастную категорию.  \n",
        "\n",
        "Данные за 2016 год могут быть неполными.\n"
      ]
    },
    {
      "cell_type": "markdown",
      "metadata": {
        "id": "drydF_hC0yLZ"
      },
      "source": [
        "**План работы**\n",
        "1. Получение и изучение данных\n",
        "2. Подготовка данных\n",
        "3. Проведение исследовательского анализа данных\n",
        "4. Составление портрета пользователя каждого региона\n",
        "5. Проведение исследования статистических показателей\n",
        "6. Проверка гипотез\n",
        "7. Общий вывод"
      ]
    },
    {
      "cell_type": "markdown",
      "metadata": {
        "id": "5sOrEoxn0yLb"
      },
      "source": [
        "# Этап 1. Получение данных"
      ]
    },
    {
      "cell_type": "markdown",
      "metadata": {
        "id": "0dJqotLv0yLd"
      },
      "source": [
        "##  Импорт библиотек\n"
      ]
    },
    {
      "cell_type": "code",
      "metadata": {
        "id": "6NVE9mf30yLe"
      },
      "source": [
        "import pandas as pd\n",
        "import numpy as np\n",
        "import matplotlib.pyplot as plt\n",
        "from scipy import stats as st"
      ],
      "execution_count": null,
      "outputs": []
    },
    {
      "cell_type": "markdown",
      "metadata": {
        "id": "9v0TOUje0yLg"
      },
      "source": [
        "Прочитаем файл *games.csv* и сохраним его в переменной *df*."
      ]
    },
    {
      "cell_type": "code",
      "metadata": {
        "id": "_4wwrEp10yLg"
      },
      "source": [
        "df = pd.read_csv('/datasets/games.csv')"
      ],
      "execution_count": null,
      "outputs": []
    },
    {
      "cell_type": "markdown",
      "metadata": {
        "id": "dGXRioO20yLh"
      },
      "source": [
        "Получение первых 10 строк таблицы."
      ]
    },
    {
      "cell_type": "code",
      "metadata": {
        "id": "s9SGjzU00yLi",
        "outputId": "215f0ab3-fa0a-4e8e-ffb2-2f6a5285dcde"
      },
      "source": [
        "df.head(10)"
      ],
      "execution_count": null,
      "outputs": [
        {
          "data": {
            "text/html": [
              "<div>\n",
              "<style scoped>\n",
              "    .dataframe tbody tr th:only-of-type {\n",
              "        vertical-align: middle;\n",
              "    }\n",
              "\n",
              "    .dataframe tbody tr th {\n",
              "        vertical-align: top;\n",
              "    }\n",
              "\n",
              "    .dataframe thead th {\n",
              "        text-align: right;\n",
              "    }\n",
              "</style>\n",
              "<table border=\"1\" class=\"dataframe\">\n",
              "  <thead>\n",
              "    <tr style=\"text-align: right;\">\n",
              "      <th></th>\n",
              "      <th>Name</th>\n",
              "      <th>Platform</th>\n",
              "      <th>Year_of_Release</th>\n",
              "      <th>Genre</th>\n",
              "      <th>NA_sales</th>\n",
              "      <th>EU_sales</th>\n",
              "      <th>JP_sales</th>\n",
              "      <th>Other_sales</th>\n",
              "      <th>Critic_Score</th>\n",
              "      <th>User_Score</th>\n",
              "      <th>Rating</th>\n",
              "    </tr>\n",
              "  </thead>\n",
              "  <tbody>\n",
              "    <tr>\n",
              "      <td>0</td>\n",
              "      <td>Wii Sports</td>\n",
              "      <td>Wii</td>\n",
              "      <td>2006.0</td>\n",
              "      <td>Sports</td>\n",
              "      <td>41.36</td>\n",
              "      <td>28.96</td>\n",
              "      <td>3.77</td>\n",
              "      <td>8.45</td>\n",
              "      <td>76.0</td>\n",
              "      <td>8</td>\n",
              "      <td>E</td>\n",
              "    </tr>\n",
              "    <tr>\n",
              "      <td>1</td>\n",
              "      <td>Super Mario Bros.</td>\n",
              "      <td>NES</td>\n",
              "      <td>1985.0</td>\n",
              "      <td>Platform</td>\n",
              "      <td>29.08</td>\n",
              "      <td>3.58</td>\n",
              "      <td>6.81</td>\n",
              "      <td>0.77</td>\n",
              "      <td>NaN</td>\n",
              "      <td>NaN</td>\n",
              "      <td>NaN</td>\n",
              "    </tr>\n",
              "    <tr>\n",
              "      <td>2</td>\n",
              "      <td>Mario Kart Wii</td>\n",
              "      <td>Wii</td>\n",
              "      <td>2008.0</td>\n",
              "      <td>Racing</td>\n",
              "      <td>15.68</td>\n",
              "      <td>12.76</td>\n",
              "      <td>3.79</td>\n",
              "      <td>3.29</td>\n",
              "      <td>82.0</td>\n",
              "      <td>8.3</td>\n",
              "      <td>E</td>\n",
              "    </tr>\n",
              "    <tr>\n",
              "      <td>3</td>\n",
              "      <td>Wii Sports Resort</td>\n",
              "      <td>Wii</td>\n",
              "      <td>2009.0</td>\n",
              "      <td>Sports</td>\n",
              "      <td>15.61</td>\n",
              "      <td>10.93</td>\n",
              "      <td>3.28</td>\n",
              "      <td>2.95</td>\n",
              "      <td>80.0</td>\n",
              "      <td>8</td>\n",
              "      <td>E</td>\n",
              "    </tr>\n",
              "    <tr>\n",
              "      <td>4</td>\n",
              "      <td>Pokemon Red/Pokemon Blue</td>\n",
              "      <td>GB</td>\n",
              "      <td>1996.0</td>\n",
              "      <td>Role-Playing</td>\n",
              "      <td>11.27</td>\n",
              "      <td>8.89</td>\n",
              "      <td>10.22</td>\n",
              "      <td>1.00</td>\n",
              "      <td>NaN</td>\n",
              "      <td>NaN</td>\n",
              "      <td>NaN</td>\n",
              "    </tr>\n",
              "    <tr>\n",
              "      <td>5</td>\n",
              "      <td>Tetris</td>\n",
              "      <td>GB</td>\n",
              "      <td>1989.0</td>\n",
              "      <td>Puzzle</td>\n",
              "      <td>23.20</td>\n",
              "      <td>2.26</td>\n",
              "      <td>4.22</td>\n",
              "      <td>0.58</td>\n",
              "      <td>NaN</td>\n",
              "      <td>NaN</td>\n",
              "      <td>NaN</td>\n",
              "    </tr>\n",
              "    <tr>\n",
              "      <td>6</td>\n",
              "      <td>New Super Mario Bros.</td>\n",
              "      <td>DS</td>\n",
              "      <td>2006.0</td>\n",
              "      <td>Platform</td>\n",
              "      <td>11.28</td>\n",
              "      <td>9.14</td>\n",
              "      <td>6.50</td>\n",
              "      <td>2.88</td>\n",
              "      <td>89.0</td>\n",
              "      <td>8.5</td>\n",
              "      <td>E</td>\n",
              "    </tr>\n",
              "    <tr>\n",
              "      <td>7</td>\n",
              "      <td>Wii Play</td>\n",
              "      <td>Wii</td>\n",
              "      <td>2006.0</td>\n",
              "      <td>Misc</td>\n",
              "      <td>13.96</td>\n",
              "      <td>9.18</td>\n",
              "      <td>2.93</td>\n",
              "      <td>2.84</td>\n",
              "      <td>58.0</td>\n",
              "      <td>6.6</td>\n",
              "      <td>E</td>\n",
              "    </tr>\n",
              "    <tr>\n",
              "      <td>8</td>\n",
              "      <td>New Super Mario Bros. Wii</td>\n",
              "      <td>Wii</td>\n",
              "      <td>2009.0</td>\n",
              "      <td>Platform</td>\n",
              "      <td>14.44</td>\n",
              "      <td>6.94</td>\n",
              "      <td>4.70</td>\n",
              "      <td>2.24</td>\n",
              "      <td>87.0</td>\n",
              "      <td>8.4</td>\n",
              "      <td>E</td>\n",
              "    </tr>\n",
              "    <tr>\n",
              "      <td>9</td>\n",
              "      <td>Duck Hunt</td>\n",
              "      <td>NES</td>\n",
              "      <td>1984.0</td>\n",
              "      <td>Shooter</td>\n",
              "      <td>26.93</td>\n",
              "      <td>0.63</td>\n",
              "      <td>0.28</td>\n",
              "      <td>0.47</td>\n",
              "      <td>NaN</td>\n",
              "      <td>NaN</td>\n",
              "      <td>NaN</td>\n",
              "    </tr>\n",
              "  </tbody>\n",
              "</table>\n",
              "</div>"
            ],
            "text/plain": [
              "                        Name Platform  Year_of_Release         Genre  \\\n",
              "0                 Wii Sports      Wii           2006.0        Sports   \n",
              "1          Super Mario Bros.      NES           1985.0      Platform   \n",
              "2             Mario Kart Wii      Wii           2008.0        Racing   \n",
              "3          Wii Sports Resort      Wii           2009.0        Sports   \n",
              "4   Pokemon Red/Pokemon Blue       GB           1996.0  Role-Playing   \n",
              "5                     Tetris       GB           1989.0        Puzzle   \n",
              "6      New Super Mario Bros.       DS           2006.0      Platform   \n",
              "7                   Wii Play      Wii           2006.0          Misc   \n",
              "8  New Super Mario Bros. Wii      Wii           2009.0      Platform   \n",
              "9                  Duck Hunt      NES           1984.0       Shooter   \n",
              "\n",
              "   NA_sales  EU_sales  JP_sales  Other_sales  Critic_Score User_Score Rating  \n",
              "0     41.36     28.96      3.77         8.45          76.0          8      E  \n",
              "1     29.08      3.58      6.81         0.77           NaN        NaN    NaN  \n",
              "2     15.68     12.76      3.79         3.29          82.0        8.3      E  \n",
              "3     15.61     10.93      3.28         2.95          80.0          8      E  \n",
              "4     11.27      8.89     10.22         1.00           NaN        NaN    NaN  \n",
              "5     23.20      2.26      4.22         0.58           NaN        NaN    NaN  \n",
              "6     11.28      9.14      6.50         2.88          89.0        8.5      E  \n",
              "7     13.96      9.18      2.93         2.84          58.0        6.6      E  \n",
              "8     14.44      6.94      4.70         2.24          87.0        8.4      E  \n",
              "9     26.93      0.63      0.28         0.47           NaN        NaN    NaN  "
            ]
          },
          "execution_count": 3,
          "metadata": {},
          "output_type": "execute_result"
        }
      ]
    },
    {
      "cell_type": "markdown",
      "metadata": {
        "id": "VjkDSd310yLj"
      },
      "source": [
        "Общая информация о данных таблицы *df*."
      ]
    },
    {
      "cell_type": "code",
      "metadata": {
        "id": "4q-0qQbs0yLj",
        "outputId": "ae3bef61-dabc-41f8-c372-5cb93ed11fa8"
      },
      "source": [
        "df.info()"
      ],
      "execution_count": null,
      "outputs": [
        {
          "name": "stdout",
          "output_type": "stream",
          "text": [
            "<class 'pandas.core.frame.DataFrame'>\n",
            "RangeIndex: 16715 entries, 0 to 16714\n",
            "Data columns (total 11 columns):\n",
            "Name               16713 non-null object\n",
            "Platform           16715 non-null object\n",
            "Year_of_Release    16446 non-null float64\n",
            "Genre              16713 non-null object\n",
            "NA_sales           16715 non-null float64\n",
            "EU_sales           16715 non-null float64\n",
            "JP_sales           16715 non-null float64\n",
            "Other_sales        16715 non-null float64\n",
            "Critic_Score       8137 non-null float64\n",
            "User_Score         10014 non-null object\n",
            "Rating             9949 non-null object\n",
            "dtypes: float64(6), object(5)\n",
            "memory usage: 1.4+ MB\n"
          ]
        }
      ]
    },
    {
      "cell_type": "markdown",
      "metadata": {
        "id": "UtF6IQ750yLk"
      },
      "source": [
        "Рассмотрим полученную информацию подробнее.\n",
        "Количество значений в столбцах различается. Это говорит о том, что в данных есть пропущенные значения. "
      ]
    },
    {
      "cell_type": "markdown",
      "metadata": {
        "id": "gu0IfWSm0yLl"
      },
      "source": [
        "# Этап 2. Предобработка данных"
      ]
    },
    {
      "cell_type": "markdown",
      "metadata": {
        "id": "UmZZrTrC0yLl"
      },
      "source": [
        "Переименуем столбцы, изменим тип некоторых данных,исключим пропуски,а также проверим данные на наличие дубликатов."
      ]
    },
    {
      "cell_type": "markdown",
      "metadata": {
        "id": "VYRSzdZI0yLl"
      },
      "source": [
        "Получаем перечень названий столбцов."
      ]
    },
    {
      "cell_type": "code",
      "metadata": {
        "id": "hngi-ynO0yLl",
        "outputId": "acfd2b0d-1947-46cf-bbc4-71e61d2b8e03"
      },
      "source": [
        "df.columns"
      ],
      "execution_count": null,
      "outputs": [
        {
          "data": {
            "text/plain": [
              "Index(['Name', 'Platform', 'Year_of_Release', 'Genre', 'NA_sales', 'EU_sales',\n",
              "       'JP_sales', 'Other_sales', 'Critic_Score', 'User_Score', 'Rating'],\n",
              "      dtype='object')"
            ]
          },
          "execution_count": 5,
          "metadata": {},
          "output_type": "execute_result"
        }
      ]
    },
    {
      "cell_type": "markdown",
      "metadata": {
        "id": "OM1DUQx80yLm"
      },
      "source": [
        "Переименуем столбцы для удобства дальнейшей работы. Проверим результат."
      ]
    },
    {
      "cell_type": "code",
      "metadata": {
        "id": "ULci51AB0yLm"
      },
      "source": [
        "df.columns = df.columns.str.lower()"
      ],
      "execution_count": null,
      "outputs": []
    },
    {
      "cell_type": "code",
      "metadata": {
        "id": "RJIucbY70yLn",
        "outputId": "61729f47-471e-43cb-ffe4-c0ebe18b54c1"
      },
      "source": [
        "df.columns"
      ],
      "execution_count": null,
      "outputs": [
        {
          "data": {
            "text/plain": [
              "Index(['name', 'platform', 'year_of_release', 'genre', 'na_sales', 'eu_sales',\n",
              "       'jp_sales', 'other_sales', 'critic_score', 'user_score', 'rating'],\n",
              "      dtype='object')"
            ]
          },
          "execution_count": 7,
          "metadata": {},
          "output_type": "execute_result"
        }
      ]
    },
    {
      "cell_type": "markdown",
      "metadata": {
        "id": "HZVlFV9_0yLn"
      },
      "source": [
        "Изменим тип данных:\n",
        "- user_score c *object* на *float64*\n",
        "- year_of_release c *float64* на *int64*"
      ]
    },
    {
      "cell_type": "markdown",
      "metadata": {
        "id": "8hMkrPnr0yLn"
      },
      "source": [
        "Посмотрим, какие значения может принимать столбец *user_score*."
      ]
    },
    {
      "cell_type": "code",
      "metadata": {
        "id": "9rxTyLED0yLo",
        "outputId": "6460e527-fd3b-4e2e-d29d-c54150145ac5"
      },
      "source": [
        "df['user_score'].unique()"
      ],
      "execution_count": null,
      "outputs": [
        {
          "data": {
            "text/plain": [
              "array(['8', nan, '8.3', '8.5', '6.6', '8.4', '8.6', '7.7', '6.3', '7.4',\n",
              "       '8.2', '9', '7.9', '8.1', '8.7', '7.1', '3.4', '5.3', '4.8', '3.2',\n",
              "       '8.9', '6.4', '7.8', '7.5', '2.6', '7.2', '9.2', '7', '7.3', '4.3',\n",
              "       '7.6', '5.7', '5', '9.1', '6.5', 'tbd', '8.8', '6.9', '9.4', '6.8',\n",
              "       '6.1', '6.7', '5.4', '4', '4.9', '4.5', '9.3', '6.2', '4.2', '6',\n",
              "       '3.7', '4.1', '5.8', '5.6', '5.5', '4.4', '4.6', '5.9', '3.9',\n",
              "       '3.1', '2.9', '5.2', '3.3', '4.7', '5.1', '3.5', '2.5', '1.9', '3',\n",
              "       '2.7', '2.2', '2', '9.5', '2.1', '3.6', '2.8', '1.8', '3.8', '0',\n",
              "       '1.6', '9.6', '2.4', '1.7', '1.1', '0.3', '1.5', '0.7', '1.2',\n",
              "       '2.3', '0.5', '1.3', '0.2', '0.6', '1.4', '0.9', '1', '9.7'],\n",
              "      dtype=object)"
            ]
          },
          "execution_count": 8,
          "metadata": {},
          "output_type": "execute_result"
        }
      ]
    },
    {
      "cell_type": "markdown",
      "metadata": {
        "id": "jsmAWklS0yLo"
      },
      "source": [
        "Помимо пропусков в *user_score* есть значение \"tbd\". \"tbd\" значит to be decided, а значит по сути является NaN. Посмотрим на количество данных значений и заменим их на NaN. Затем приведем к типу *float64*."
      ]
    },
    {
      "cell_type": "code",
      "metadata": {
        "id": "rfe24U440yLo",
        "outputId": "a021ee36-5917-40a1-f638-93d26e0f46e7"
      },
      "source": [
        "df[df['user_score']=='tbd']"
      ],
      "execution_count": null,
      "outputs": [
        {
          "data": {
            "text/html": [
              "<div>\n",
              "<style scoped>\n",
              "    .dataframe tbody tr th:only-of-type {\n",
              "        vertical-align: middle;\n",
              "    }\n",
              "\n",
              "    .dataframe tbody tr th {\n",
              "        vertical-align: top;\n",
              "    }\n",
              "\n",
              "    .dataframe thead th {\n",
              "        text-align: right;\n",
              "    }\n",
              "</style>\n",
              "<table border=\"1\" class=\"dataframe\">\n",
              "  <thead>\n",
              "    <tr style=\"text-align: right;\">\n",
              "      <th></th>\n",
              "      <th>name</th>\n",
              "      <th>platform</th>\n",
              "      <th>year_of_release</th>\n",
              "      <th>genre</th>\n",
              "      <th>na_sales</th>\n",
              "      <th>eu_sales</th>\n",
              "      <th>jp_sales</th>\n",
              "      <th>other_sales</th>\n",
              "      <th>critic_score</th>\n",
              "      <th>user_score</th>\n",
              "      <th>rating</th>\n",
              "    </tr>\n",
              "  </thead>\n",
              "  <tbody>\n",
              "    <tr>\n",
              "      <td>119</td>\n",
              "      <td>Zumba Fitness</td>\n",
              "      <td>Wii</td>\n",
              "      <td>2010.0</td>\n",
              "      <td>Sports</td>\n",
              "      <td>3.45</td>\n",
              "      <td>2.59</td>\n",
              "      <td>0.0</td>\n",
              "      <td>0.66</td>\n",
              "      <td>NaN</td>\n",
              "      <td>tbd</td>\n",
              "      <td>E</td>\n",
              "    </tr>\n",
              "    <tr>\n",
              "      <td>301</td>\n",
              "      <td>Namco Museum: 50th Anniversary</td>\n",
              "      <td>PS2</td>\n",
              "      <td>2005.0</td>\n",
              "      <td>Misc</td>\n",
              "      <td>2.08</td>\n",
              "      <td>1.35</td>\n",
              "      <td>0.0</td>\n",
              "      <td>0.54</td>\n",
              "      <td>61.0</td>\n",
              "      <td>tbd</td>\n",
              "      <td>E10+</td>\n",
              "    </tr>\n",
              "    <tr>\n",
              "      <td>520</td>\n",
              "      <td>Zumba Fitness 2</td>\n",
              "      <td>Wii</td>\n",
              "      <td>2011.0</td>\n",
              "      <td>Sports</td>\n",
              "      <td>1.51</td>\n",
              "      <td>1.03</td>\n",
              "      <td>0.0</td>\n",
              "      <td>0.27</td>\n",
              "      <td>NaN</td>\n",
              "      <td>tbd</td>\n",
              "      <td>T</td>\n",
              "    </tr>\n",
              "    <tr>\n",
              "      <td>645</td>\n",
              "      <td>uDraw Studio</td>\n",
              "      <td>Wii</td>\n",
              "      <td>2010.0</td>\n",
              "      <td>Misc</td>\n",
              "      <td>1.65</td>\n",
              "      <td>0.57</td>\n",
              "      <td>0.0</td>\n",
              "      <td>0.20</td>\n",
              "      <td>71.0</td>\n",
              "      <td>tbd</td>\n",
              "      <td>E</td>\n",
              "    </tr>\n",
              "    <tr>\n",
              "      <td>657</td>\n",
              "      <td>Frogger's Adventures: Temple of the Frog</td>\n",
              "      <td>GBA</td>\n",
              "      <td>NaN</td>\n",
              "      <td>Adventure</td>\n",
              "      <td>2.15</td>\n",
              "      <td>0.18</td>\n",
              "      <td>0.0</td>\n",
              "      <td>0.07</td>\n",
              "      <td>73.0</td>\n",
              "      <td>tbd</td>\n",
              "      <td>E</td>\n",
              "    </tr>\n",
              "    <tr>\n",
              "      <td>...</td>\n",
              "      <td>...</td>\n",
              "      <td>...</td>\n",
              "      <td>...</td>\n",
              "      <td>...</td>\n",
              "      <td>...</td>\n",
              "      <td>...</td>\n",
              "      <td>...</td>\n",
              "      <td>...</td>\n",
              "      <td>...</td>\n",
              "      <td>...</td>\n",
              "      <td>...</td>\n",
              "    </tr>\n",
              "    <tr>\n",
              "      <td>16695</td>\n",
              "      <td>Planet Monsters</td>\n",
              "      <td>GBA</td>\n",
              "      <td>2001.0</td>\n",
              "      <td>Action</td>\n",
              "      <td>0.01</td>\n",
              "      <td>0.00</td>\n",
              "      <td>0.0</td>\n",
              "      <td>0.00</td>\n",
              "      <td>67.0</td>\n",
              "      <td>tbd</td>\n",
              "      <td>E</td>\n",
              "    </tr>\n",
              "    <tr>\n",
              "      <td>16697</td>\n",
              "      <td>Bust-A-Move 3000</td>\n",
              "      <td>GC</td>\n",
              "      <td>2003.0</td>\n",
              "      <td>Puzzle</td>\n",
              "      <td>0.01</td>\n",
              "      <td>0.00</td>\n",
              "      <td>0.0</td>\n",
              "      <td>0.00</td>\n",
              "      <td>53.0</td>\n",
              "      <td>tbd</td>\n",
              "      <td>E</td>\n",
              "    </tr>\n",
              "    <tr>\n",
              "      <td>16698</td>\n",
              "      <td>Mega Brain Boost</td>\n",
              "      <td>DS</td>\n",
              "      <td>2008.0</td>\n",
              "      <td>Puzzle</td>\n",
              "      <td>0.01</td>\n",
              "      <td>0.00</td>\n",
              "      <td>0.0</td>\n",
              "      <td>0.00</td>\n",
              "      <td>48.0</td>\n",
              "      <td>tbd</td>\n",
              "      <td>E</td>\n",
              "    </tr>\n",
              "    <tr>\n",
              "      <td>16704</td>\n",
              "      <td>Plushees</td>\n",
              "      <td>DS</td>\n",
              "      <td>2008.0</td>\n",
              "      <td>Simulation</td>\n",
              "      <td>0.01</td>\n",
              "      <td>0.00</td>\n",
              "      <td>0.0</td>\n",
              "      <td>0.00</td>\n",
              "      <td>NaN</td>\n",
              "      <td>tbd</td>\n",
              "      <td>E</td>\n",
              "    </tr>\n",
              "    <tr>\n",
              "      <td>16706</td>\n",
              "      <td>Men in Black II: Alien Escape</td>\n",
              "      <td>GC</td>\n",
              "      <td>2003.0</td>\n",
              "      <td>Shooter</td>\n",
              "      <td>0.01</td>\n",
              "      <td>0.00</td>\n",
              "      <td>0.0</td>\n",
              "      <td>0.00</td>\n",
              "      <td>NaN</td>\n",
              "      <td>tbd</td>\n",
              "      <td>T</td>\n",
              "    </tr>\n",
              "  </tbody>\n",
              "</table>\n",
              "<p>2424 rows × 11 columns</p>\n",
              "</div>"
            ],
            "text/plain": [
              "                                           name platform  year_of_release  \\\n",
              "119                               Zumba Fitness      Wii           2010.0   \n",
              "301              Namco Museum: 50th Anniversary      PS2           2005.0   \n",
              "520                             Zumba Fitness 2      Wii           2011.0   \n",
              "645                                uDraw Studio      Wii           2010.0   \n",
              "657    Frogger's Adventures: Temple of the Frog      GBA              NaN   \n",
              "...                                         ...      ...              ...   \n",
              "16695                           Planet Monsters      GBA           2001.0   \n",
              "16697                          Bust-A-Move 3000       GC           2003.0   \n",
              "16698                          Mega Brain Boost       DS           2008.0   \n",
              "16704                                  Plushees       DS           2008.0   \n",
              "16706             Men in Black II: Alien Escape       GC           2003.0   \n",
              "\n",
              "            genre  na_sales  eu_sales  jp_sales  other_sales  critic_score  \\\n",
              "119        Sports      3.45      2.59       0.0         0.66           NaN   \n",
              "301          Misc      2.08      1.35       0.0         0.54          61.0   \n",
              "520        Sports      1.51      1.03       0.0         0.27           NaN   \n",
              "645          Misc      1.65      0.57       0.0         0.20          71.0   \n",
              "657     Adventure      2.15      0.18       0.0         0.07          73.0   \n",
              "...           ...       ...       ...       ...          ...           ...   \n",
              "16695      Action      0.01      0.00       0.0         0.00          67.0   \n",
              "16697      Puzzle      0.01      0.00       0.0         0.00          53.0   \n",
              "16698      Puzzle      0.01      0.00       0.0         0.00          48.0   \n",
              "16704  Simulation      0.01      0.00       0.0         0.00           NaN   \n",
              "16706     Shooter      0.01      0.00       0.0         0.00           NaN   \n",
              "\n",
              "      user_score rating  \n",
              "119          tbd      E  \n",
              "301          tbd   E10+  \n",
              "520          tbd      T  \n",
              "645          tbd      E  \n",
              "657          tbd      E  \n",
              "...          ...    ...  \n",
              "16695        tbd      E  \n",
              "16697        tbd      E  \n",
              "16698        tbd      E  \n",
              "16704        tbd      E  \n",
              "16706        tbd      T  \n",
              "\n",
              "[2424 rows x 11 columns]"
            ]
          },
          "execution_count": 9,
          "metadata": {},
          "output_type": "execute_result"
        }
      ]
    },
    {
      "cell_type": "code",
      "metadata": {
        "id": "9iImY1bV0yLo"
      },
      "source": [
        "df['user_score']=pd.to_numeric(df['user_score'],errors='coerce')"
      ],
      "execution_count": null,
      "outputs": []
    },
    {
      "cell_type": "markdown",
      "metadata": {
        "id": "a-S5t92l0yLp"
      },
      "source": [
        "Прежде чем изменим тип данных у *year_of_release*. Посмотрим на наличие пропусков."
      ]
    },
    {
      "cell_type": "code",
      "metadata": {
        "id": "2AfRG6nm0yLp",
        "outputId": "1107829f-eb39-499c-d583-04943246e72c"
      },
      "source": [
        "df.isnull().sum()"
      ],
      "execution_count": null,
      "outputs": [
        {
          "data": {
            "text/plain": [
              "name                  2\n",
              "platform              0\n",
              "year_of_release     269\n",
              "genre                 2\n",
              "na_sales              0\n",
              "eu_sales              0\n",
              "jp_sales              0\n",
              "other_sales           0\n",
              "critic_score       8578\n",
              "user_score         9125\n",
              "rating             6766\n",
              "dtype: int64"
            ]
          },
          "execution_count": 11,
          "metadata": {},
          "output_type": "execute_result"
        }
      ]
    },
    {
      "cell_type": "markdown",
      "metadata": {
        "id": "8PysCQDT0yLq"
      },
      "source": [
        "В столбцах *name*, *genre*, *year_of_release* есть пропуски, их количество составляет около 1,6%, так как мы не можем точно заменить эти данные, удалим пропуски."
      ]
    },
    {
      "cell_type": "code",
      "metadata": {
        "id": "bt8OOgkw0yLq"
      },
      "source": [
        "df.dropna(subset = ['year_of_release','name','genre'], inplace=True)"
      ],
      "execution_count": null,
      "outputs": []
    },
    {
      "cell_type": "markdown",
      "metadata": {
        "id": "lB8lMl2a0yLr"
      },
      "source": [
        "Теперь изменим тип *year_of_release* на *int64*."
      ]
    },
    {
      "cell_type": "code",
      "metadata": {
        "id": "xT-FiW-30yLr"
      },
      "source": [
        "df['year_of_release'] = df['year_of_release'].astype('int64')"
      ],
      "execution_count": null,
      "outputs": []
    },
    {
      "cell_type": "code",
      "metadata": {
        "id": "k6bMyl-60yLr",
        "outputId": "d2c04b2e-74d1-4f6f-e155-7e4b5ab1b85e"
      },
      "source": [
        "df.info()"
      ],
      "execution_count": null,
      "outputs": [
        {
          "name": "stdout",
          "output_type": "stream",
          "text": [
            "<class 'pandas.core.frame.DataFrame'>\n",
            "Int64Index: 16444 entries, 0 to 16714\n",
            "Data columns (total 11 columns):\n",
            "name               16444 non-null object\n",
            "platform           16444 non-null object\n",
            "year_of_release    16444 non-null int64\n",
            "genre              16444 non-null object\n",
            "na_sales           16444 non-null float64\n",
            "eu_sales           16444 non-null float64\n",
            "jp_sales           16444 non-null float64\n",
            "other_sales        16444 non-null float64\n",
            "critic_score       7983 non-null float64\n",
            "user_score         7463 non-null float64\n",
            "rating             9768 non-null object\n",
            "dtypes: float64(6), int64(1), object(4)\n",
            "memory usage: 1.5+ MB\n"
          ]
        }
      ]
    },
    {
      "cell_type": "markdown",
      "metadata": {
        "id": "8lP0tLAX0yLr"
      },
      "source": [
        "В датасете остались пустые значения в *critic_score*, *user_score*, *rating*. Причины могут быть разные: например, в *critic_score* могут быть пропуски из-за того, что раньше игры не оценивались критиками, так же как и в *rating* могут быть пропуски, так как игры могли быть выпущены раньше, чем появился рейтинг организации ESRB, в *user_score* могут быть пропуски, так как игры не популярны или имеют узкую аудиторию."
      ]
    },
    {
      "cell_type": "markdown",
      "metadata": {
        "id": "RcOkTqan0yLs"
      },
      "source": [
        "Рассмотрим подробнее, какие значения может принимать категориальная переменная *rating*."
      ]
    },
    {
      "cell_type": "code",
      "metadata": {
        "id": "RIFDuS4T0yLs",
        "outputId": "cfc3e06a-d964-4661-a21e-19fb47749c91"
      },
      "source": [
        "df['rating'].unique()"
      ],
      "execution_count": null,
      "outputs": [
        {
          "data": {
            "text/plain": [
              "array(['E', nan, 'M', 'T', 'E10+', 'K-A', 'AO', 'EC', 'RP'], dtype=object)"
            ]
          },
          "execution_count": 15,
          "metadata": {},
          "output_type": "execute_result"
        }
      ]
    },
    {
      "cell_type": "markdown",
      "metadata": {
        "id": "etIzBxOb0yLt"
      },
      "source": [
        "Количество пропусков - 6766. Прочитаем подробнее, что значит, каждая категория."
      ]
    },
    {
      "cell_type": "markdown",
      "metadata": {
        "id": "kgMc456z0yLt"
      },
      "source": [
        "«RP» значит «Рейтинг ожидается». Поэтому мы можем заменить NaN на «RP»."
      ]
    },
    {
      "cell_type": "code",
      "metadata": {
        "id": "uT1f-6WC0yLu"
      },
      "source": [
        "df['rating']=df['rating'].fillna('RP')"
      ],
      "execution_count": null,
      "outputs": []
    },
    {
      "cell_type": "markdown",
      "metadata": {
        "id": "P3gh6nl40yLu"
      },
      "source": [
        "В отличие от *rating*, *critic_score* и *user_score* являются количественными переменными. Посмотрим на числовое описание данных для каждой из колонок, чтобы решить, как мы будем заполнять пропуски."
      ]
    },
    {
      "cell_type": "code",
      "metadata": {
        "id": "9Tn9G27V0yLu",
        "outputId": "85004a73-22c4-40af-ec4e-9dda1a1d259c"
      },
      "source": [
        "df.describe()"
      ],
      "execution_count": null,
      "outputs": [
        {
          "data": {
            "text/html": [
              "<div>\n",
              "<style scoped>\n",
              "    .dataframe tbody tr th:only-of-type {\n",
              "        vertical-align: middle;\n",
              "    }\n",
              "\n",
              "    .dataframe tbody tr th {\n",
              "        vertical-align: top;\n",
              "    }\n",
              "\n",
              "    .dataframe thead th {\n",
              "        text-align: right;\n",
              "    }\n",
              "</style>\n",
              "<table border=\"1\" class=\"dataframe\">\n",
              "  <thead>\n",
              "    <tr style=\"text-align: right;\">\n",
              "      <th></th>\n",
              "      <th>year_of_release</th>\n",
              "      <th>na_sales</th>\n",
              "      <th>eu_sales</th>\n",
              "      <th>jp_sales</th>\n",
              "      <th>other_sales</th>\n",
              "      <th>critic_score</th>\n",
              "      <th>user_score</th>\n",
              "    </tr>\n",
              "  </thead>\n",
              "  <tbody>\n",
              "    <tr>\n",
              "      <td>count</td>\n",
              "      <td>16444.000000</td>\n",
              "      <td>16444.000000</td>\n",
              "      <td>16444.000000</td>\n",
              "      <td>16444.000000</td>\n",
              "      <td>16444.000000</td>\n",
              "      <td>7983.000000</td>\n",
              "      <td>7463.000000</td>\n",
              "    </tr>\n",
              "    <tr>\n",
              "      <td>mean</td>\n",
              "      <td>2006.486256</td>\n",
              "      <td>0.264012</td>\n",
              "      <td>0.145930</td>\n",
              "      <td>0.078487</td>\n",
              "      <td>0.047594</td>\n",
              "      <td>68.994363</td>\n",
              "      <td>7.126330</td>\n",
              "    </tr>\n",
              "    <tr>\n",
              "      <td>std</td>\n",
              "      <td>5.875525</td>\n",
              "      <td>0.818378</td>\n",
              "      <td>0.506716</td>\n",
              "      <td>0.311100</td>\n",
              "      <td>0.188005</td>\n",
              "      <td>13.920060</td>\n",
              "      <td>1.499447</td>\n",
              "    </tr>\n",
              "    <tr>\n",
              "      <td>min</td>\n",
              "      <td>1980.000000</td>\n",
              "      <td>0.000000</td>\n",
              "      <td>0.000000</td>\n",
              "      <td>0.000000</td>\n",
              "      <td>0.000000</td>\n",
              "      <td>13.000000</td>\n",
              "      <td>0.000000</td>\n",
              "    </tr>\n",
              "    <tr>\n",
              "      <td>25%</td>\n",
              "      <td>2003.000000</td>\n",
              "      <td>0.000000</td>\n",
              "      <td>0.000000</td>\n",
              "      <td>0.000000</td>\n",
              "      <td>0.000000</td>\n",
              "      <td>60.000000</td>\n",
              "      <td>6.400000</td>\n",
              "    </tr>\n",
              "    <tr>\n",
              "      <td>50%</td>\n",
              "      <td>2007.000000</td>\n",
              "      <td>0.080000</td>\n",
              "      <td>0.020000</td>\n",
              "      <td>0.000000</td>\n",
              "      <td>0.010000</td>\n",
              "      <td>71.000000</td>\n",
              "      <td>7.500000</td>\n",
              "    </tr>\n",
              "    <tr>\n",
              "      <td>75%</td>\n",
              "      <td>2010.000000</td>\n",
              "      <td>0.240000</td>\n",
              "      <td>0.110000</td>\n",
              "      <td>0.040000</td>\n",
              "      <td>0.030000</td>\n",
              "      <td>79.000000</td>\n",
              "      <td>8.200000</td>\n",
              "    </tr>\n",
              "    <tr>\n",
              "      <td>max</td>\n",
              "      <td>2016.000000</td>\n",
              "      <td>41.360000</td>\n",
              "      <td>28.960000</td>\n",
              "      <td>10.220000</td>\n",
              "      <td>10.570000</td>\n",
              "      <td>98.000000</td>\n",
              "      <td>9.700000</td>\n",
              "    </tr>\n",
              "  </tbody>\n",
              "</table>\n",
              "</div>"
            ],
            "text/plain": [
              "       year_of_release      na_sales      eu_sales      jp_sales  \\\n",
              "count     16444.000000  16444.000000  16444.000000  16444.000000   \n",
              "mean       2006.486256      0.264012      0.145930      0.078487   \n",
              "std           5.875525      0.818378      0.506716      0.311100   \n",
              "min        1980.000000      0.000000      0.000000      0.000000   \n",
              "25%        2003.000000      0.000000      0.000000      0.000000   \n",
              "50%        2007.000000      0.080000      0.020000      0.000000   \n",
              "75%        2010.000000      0.240000      0.110000      0.040000   \n",
              "max        2016.000000     41.360000     28.960000     10.220000   \n",
              "\n",
              "        other_sales  critic_score   user_score  \n",
              "count  16444.000000   7983.000000  7463.000000  \n",
              "mean       0.047594     68.994363     7.126330  \n",
              "std        0.188005     13.920060     1.499447  \n",
              "min        0.000000     13.000000     0.000000  \n",
              "25%        0.000000     60.000000     6.400000  \n",
              "50%        0.010000     71.000000     7.500000  \n",
              "75%        0.030000     79.000000     8.200000  \n",
              "max       10.570000     98.000000     9.700000  "
            ]
          },
          "execution_count": 17,
          "metadata": {},
          "output_type": "execute_result"
        }
      ]
    },
    {
      "cell_type": "markdown",
      "metadata": {
        "id": "JfiIY_aF0yLw"
      },
      "source": [
        "Данных для того, чтобы восстановить эти пропуски, у нас недостаточно. Также мы видим, что пропуски в столбцах часто встречаются вместе, т.е. нет данных по одним и тем же играм. Это с большой долей вероятности связано с тем, что эти данные просто не были загружены в таблицу.Оставим пропуски и посмотрим на результаты без их заполнения."
      ]
    },
    {
      "cell_type": "markdown",
      "metadata": {
        "id": "PYur36dU0yLx"
      },
      "source": [
        "Посмотрим сводную информацию о таблице еще раз. И проверим наличие дубликатов."
      ]
    },
    {
      "cell_type": "code",
      "metadata": {
        "id": "qJYu5Dhw0yLx",
        "outputId": "d99dc1cc-7a73-4ee9-f255-7af875cccf06"
      },
      "source": [
        "df.info()"
      ],
      "execution_count": null,
      "outputs": [
        {
          "name": "stdout",
          "output_type": "stream",
          "text": [
            "<class 'pandas.core.frame.DataFrame'>\n",
            "Int64Index: 16444 entries, 0 to 16714\n",
            "Data columns (total 11 columns):\n",
            "name               16444 non-null object\n",
            "platform           16444 non-null object\n",
            "year_of_release    16444 non-null int64\n",
            "genre              16444 non-null object\n",
            "na_sales           16444 non-null float64\n",
            "eu_sales           16444 non-null float64\n",
            "jp_sales           16444 non-null float64\n",
            "other_sales        16444 non-null float64\n",
            "critic_score       7983 non-null float64\n",
            "user_score         7463 non-null float64\n",
            "rating             16444 non-null object\n",
            "dtypes: float64(6), int64(1), object(4)\n",
            "memory usage: 1.5+ MB\n"
          ]
        }
      ]
    },
    {
      "cell_type": "code",
      "metadata": {
        "scrolled": true,
        "id": "jRGnFv0I0yLy",
        "outputId": "abc3d175-c8df-4e4d-c8f9-f98ac51b034f"
      },
      "source": [
        "df.duplicated().sum()"
      ],
      "execution_count": null,
      "outputs": [
        {
          "data": {
            "text/plain": [
              "0"
            ]
          },
          "execution_count": 21,
          "metadata": {},
          "output_type": "execute_result"
        }
      ]
    },
    {
      "cell_type": "markdown",
      "metadata": {
        "id": "g220O62B0yLy"
      },
      "source": [
        "Дубликаты отсутствуют."
      ]
    },
    {
      "cell_type": "markdown",
      "metadata": {
        "id": "lQjZsxFb0yLz"
      },
      "source": [
        "Последним шагом добавим столбец с суммарными продажами."
      ]
    },
    {
      "cell_type": "code",
      "metadata": {
        "id": "uhrGBRpw0yLz"
      },
      "source": [
        "df['total_sales']=df['na_sales']+df['eu_sales']+df['jp_sales']+df['other_sales']"
      ],
      "execution_count": null,
      "outputs": []
    },
    {
      "cell_type": "markdown",
      "metadata": {
        "id": "d6gxwHdc0yL0"
      },
      "source": [
        "# Этап 3. Исследовательский анализ"
      ]
    },
    {
      "cell_type": "markdown",
      "metadata": {
        "id": "DRqbs4bc0yL0"
      },
      "source": [
        "Получение первых 10 строк новой таблицы."
      ]
    },
    {
      "cell_type": "code",
      "metadata": {
        "id": "Wa12tp6q0yL0",
        "outputId": "82e31245-6db6-4bb3-edfc-ec1b1b2c6737"
      },
      "source": [
        "df.head(10)"
      ],
      "execution_count": null,
      "outputs": [
        {
          "data": {
            "text/html": [
              "<div>\n",
              "<style scoped>\n",
              "    .dataframe tbody tr th:only-of-type {\n",
              "        vertical-align: middle;\n",
              "    }\n",
              "\n",
              "    .dataframe tbody tr th {\n",
              "        vertical-align: top;\n",
              "    }\n",
              "\n",
              "    .dataframe thead th {\n",
              "        text-align: right;\n",
              "    }\n",
              "</style>\n",
              "<table border=\"1\" class=\"dataframe\">\n",
              "  <thead>\n",
              "    <tr style=\"text-align: right;\">\n",
              "      <th></th>\n",
              "      <th>name</th>\n",
              "      <th>platform</th>\n",
              "      <th>year_of_release</th>\n",
              "      <th>genre</th>\n",
              "      <th>na_sales</th>\n",
              "      <th>eu_sales</th>\n",
              "      <th>jp_sales</th>\n",
              "      <th>other_sales</th>\n",
              "      <th>critic_score</th>\n",
              "      <th>user_score</th>\n",
              "      <th>rating</th>\n",
              "      <th>total_sales</th>\n",
              "    </tr>\n",
              "  </thead>\n",
              "  <tbody>\n",
              "    <tr>\n",
              "      <td>0</td>\n",
              "      <td>Wii Sports</td>\n",
              "      <td>Wii</td>\n",
              "      <td>2006</td>\n",
              "      <td>Sports</td>\n",
              "      <td>41.36</td>\n",
              "      <td>28.96</td>\n",
              "      <td>3.77</td>\n",
              "      <td>8.45</td>\n",
              "      <td>76.0</td>\n",
              "      <td>8.0</td>\n",
              "      <td>E</td>\n",
              "      <td>82.54</td>\n",
              "    </tr>\n",
              "    <tr>\n",
              "      <td>1</td>\n",
              "      <td>Super Mario Bros.</td>\n",
              "      <td>NES</td>\n",
              "      <td>1985</td>\n",
              "      <td>Platform</td>\n",
              "      <td>29.08</td>\n",
              "      <td>3.58</td>\n",
              "      <td>6.81</td>\n",
              "      <td>0.77</td>\n",
              "      <td>NaN</td>\n",
              "      <td>NaN</td>\n",
              "      <td>RP</td>\n",
              "      <td>40.24</td>\n",
              "    </tr>\n",
              "    <tr>\n",
              "      <td>2</td>\n",
              "      <td>Mario Kart Wii</td>\n",
              "      <td>Wii</td>\n",
              "      <td>2008</td>\n",
              "      <td>Racing</td>\n",
              "      <td>15.68</td>\n",
              "      <td>12.76</td>\n",
              "      <td>3.79</td>\n",
              "      <td>3.29</td>\n",
              "      <td>82.0</td>\n",
              "      <td>8.3</td>\n",
              "      <td>E</td>\n",
              "      <td>35.52</td>\n",
              "    </tr>\n",
              "    <tr>\n",
              "      <td>3</td>\n",
              "      <td>Wii Sports Resort</td>\n",
              "      <td>Wii</td>\n",
              "      <td>2009</td>\n",
              "      <td>Sports</td>\n",
              "      <td>15.61</td>\n",
              "      <td>10.93</td>\n",
              "      <td>3.28</td>\n",
              "      <td>2.95</td>\n",
              "      <td>80.0</td>\n",
              "      <td>8.0</td>\n",
              "      <td>E</td>\n",
              "      <td>32.77</td>\n",
              "    </tr>\n",
              "    <tr>\n",
              "      <td>4</td>\n",
              "      <td>Pokemon Red/Pokemon Blue</td>\n",
              "      <td>GB</td>\n",
              "      <td>1996</td>\n",
              "      <td>Role-Playing</td>\n",
              "      <td>11.27</td>\n",
              "      <td>8.89</td>\n",
              "      <td>10.22</td>\n",
              "      <td>1.00</td>\n",
              "      <td>NaN</td>\n",
              "      <td>NaN</td>\n",
              "      <td>RP</td>\n",
              "      <td>31.38</td>\n",
              "    </tr>\n",
              "    <tr>\n",
              "      <td>5</td>\n",
              "      <td>Tetris</td>\n",
              "      <td>GB</td>\n",
              "      <td>1989</td>\n",
              "      <td>Puzzle</td>\n",
              "      <td>23.20</td>\n",
              "      <td>2.26</td>\n",
              "      <td>4.22</td>\n",
              "      <td>0.58</td>\n",
              "      <td>NaN</td>\n",
              "      <td>NaN</td>\n",
              "      <td>RP</td>\n",
              "      <td>30.26</td>\n",
              "    </tr>\n",
              "    <tr>\n",
              "      <td>6</td>\n",
              "      <td>New Super Mario Bros.</td>\n",
              "      <td>DS</td>\n",
              "      <td>2006</td>\n",
              "      <td>Platform</td>\n",
              "      <td>11.28</td>\n",
              "      <td>9.14</td>\n",
              "      <td>6.50</td>\n",
              "      <td>2.88</td>\n",
              "      <td>89.0</td>\n",
              "      <td>8.5</td>\n",
              "      <td>E</td>\n",
              "      <td>29.80</td>\n",
              "    </tr>\n",
              "    <tr>\n",
              "      <td>7</td>\n",
              "      <td>Wii Play</td>\n",
              "      <td>Wii</td>\n",
              "      <td>2006</td>\n",
              "      <td>Misc</td>\n",
              "      <td>13.96</td>\n",
              "      <td>9.18</td>\n",
              "      <td>2.93</td>\n",
              "      <td>2.84</td>\n",
              "      <td>58.0</td>\n",
              "      <td>6.6</td>\n",
              "      <td>E</td>\n",
              "      <td>28.91</td>\n",
              "    </tr>\n",
              "    <tr>\n",
              "      <td>8</td>\n",
              "      <td>New Super Mario Bros. Wii</td>\n",
              "      <td>Wii</td>\n",
              "      <td>2009</td>\n",
              "      <td>Platform</td>\n",
              "      <td>14.44</td>\n",
              "      <td>6.94</td>\n",
              "      <td>4.70</td>\n",
              "      <td>2.24</td>\n",
              "      <td>87.0</td>\n",
              "      <td>8.4</td>\n",
              "      <td>E</td>\n",
              "      <td>28.32</td>\n",
              "    </tr>\n",
              "    <tr>\n",
              "      <td>9</td>\n",
              "      <td>Duck Hunt</td>\n",
              "      <td>NES</td>\n",
              "      <td>1984</td>\n",
              "      <td>Shooter</td>\n",
              "      <td>26.93</td>\n",
              "      <td>0.63</td>\n",
              "      <td>0.28</td>\n",
              "      <td>0.47</td>\n",
              "      <td>NaN</td>\n",
              "      <td>NaN</td>\n",
              "      <td>RP</td>\n",
              "      <td>28.31</td>\n",
              "    </tr>\n",
              "  </tbody>\n",
              "</table>\n",
              "</div>"
            ],
            "text/plain": [
              "                        name platform  year_of_release         genre  \\\n",
              "0                 Wii Sports      Wii             2006        Sports   \n",
              "1          Super Mario Bros.      NES             1985      Platform   \n",
              "2             Mario Kart Wii      Wii             2008        Racing   \n",
              "3          Wii Sports Resort      Wii             2009        Sports   \n",
              "4   Pokemon Red/Pokemon Blue       GB             1996  Role-Playing   \n",
              "5                     Tetris       GB             1989        Puzzle   \n",
              "6      New Super Mario Bros.       DS             2006      Platform   \n",
              "7                   Wii Play      Wii             2006          Misc   \n",
              "8  New Super Mario Bros. Wii      Wii             2009      Platform   \n",
              "9                  Duck Hunt      NES             1984       Shooter   \n",
              "\n",
              "   na_sales  eu_sales  jp_sales  other_sales  critic_score  user_score rating  \\\n",
              "0     41.36     28.96      3.77         8.45          76.0         8.0      E   \n",
              "1     29.08      3.58      6.81         0.77           NaN         NaN     RP   \n",
              "2     15.68     12.76      3.79         3.29          82.0         8.3      E   \n",
              "3     15.61     10.93      3.28         2.95          80.0         8.0      E   \n",
              "4     11.27      8.89     10.22         1.00           NaN         NaN     RP   \n",
              "5     23.20      2.26      4.22         0.58           NaN         NaN     RP   \n",
              "6     11.28      9.14      6.50         2.88          89.0         8.5      E   \n",
              "7     13.96      9.18      2.93         2.84          58.0         6.6      E   \n",
              "8     14.44      6.94      4.70         2.24          87.0         8.4      E   \n",
              "9     26.93      0.63      0.28         0.47           NaN         NaN     RP   \n",
              "\n",
              "   total_sales  \n",
              "0        82.54  \n",
              "1        40.24  \n",
              "2        35.52  \n",
              "3        32.77  \n",
              "4        31.38  \n",
              "5        30.26  \n",
              "6        29.80  \n",
              "7        28.91  \n",
              "8        28.32  \n",
              "9        28.31  "
            ]
          },
          "execution_count": 23,
          "metadata": {},
          "output_type": "execute_result"
        }
      ]
    },
    {
      "cell_type": "markdown",
      "metadata": {
        "id": "NvggyEcw0yL0"
      },
      "source": [
        "**1. Продажи игр по годам**"
      ]
    },
    {
      "cell_type": "markdown",
      "metadata": {
        "id": "WLoTp3mI0yL1"
      },
      "source": [
        "Посмотрим сколько игр выпускалось в разные года."
      ]
    },
    {
      "cell_type": "code",
      "metadata": {
        "id": "YUtq0lES0yL1",
        "outputId": "845d3d07-304a-4ece-be1c-4140f19067c4"
      },
      "source": [
        "df['year_of_release'].hist()"
      ],
      "execution_count": null,
      "outputs": [
        {
          "data": {
            "text/plain": [
              "<matplotlib.axes._subplots.AxesSubplot at 0x7f2d14309290>"
            ]
          },
          "execution_count": 24,
          "metadata": {},
          "output_type": "execute_result"
        },
        {
          "data": {
            "image/png": "[encoded data removed]",
            "text/plain": [
              "<Figure size 432x288 with 1 Axes>"
            ]
          },
          "metadata": {
            "needs_background": "light"
          },
          "output_type": "display_data"
        }
      ]
    },
    {
      "cell_type": "markdown",
      "metadata": {
        "id": "0O4DHp-60yL1"
      },
      "source": [
        "До середины 90-х годов игр выпускалось очень мало. Большинство игр выпускалось в 2008-2012 годах. Затем количество выпускаемых игр начало снижаться, это может быть связано с развитием мобильных устройств и появлением новых \"развлечений\". "
      ]
    },
    {
      "cell_type": "markdown",
      "metadata": {
        "id": "-WqBzKU90yL2"
      },
      "source": [
        "**2. Изменение продаж по платформам**"
      ]
    },
    {
      "cell_type": "markdown",
      "metadata": {
        "id": "OtzC84YA0yL2"
      },
      "source": [
        "Определим платформы с наибольшими суммарными продажами."
      ]
    },
    {
      "cell_type": "code",
      "metadata": {
        "id": "5gCVbJXM0yL2",
        "outputId": "833886b9-a066-46a7-b4fd-3a9e735e2f2b"
      },
      "source": [
        "platform_sales=df.groupby('platform')['total_sales'].sum().sort_values(ascending=False)\n",
        "platform_sales"
      ],
      "execution_count": null,
      "outputs": [
        {
          "data": {
            "text/plain": [
              "platform\n",
              "PS2     1233.56\n",
              "X360     961.24\n",
              "PS3      931.34\n",
              "Wii      891.18\n",
              "DS       802.78\n",
              "PS       727.58\n",
              "PS4      314.14\n",
              "GBA      312.88\n",
              "PSP      289.53\n",
              "3DS      257.81\n",
              "PC       255.76\n",
              "GB       254.43\n",
              "XB       251.57\n",
              "NES      251.05\n",
              "N64      218.01\n",
              "SNES     200.04\n",
              "GC       196.73\n",
              "XOne     159.32\n",
              "2600      86.48\n",
              "WiiU      82.19\n",
              "PSV       53.81\n",
              "SAT       33.59\n",
              "GEN       28.35\n",
              "DC        15.95\n",
              "SCD        1.86\n",
              "NG         1.44\n",
              "WS         1.42\n",
              "TG16       0.16\n",
              "3DO        0.10\n",
              "GG         0.04\n",
              "PCFX       0.03\n",
              "Name: total_sales, dtype: float64"
            ]
          },
          "execution_count": 25,
          "metadata": {},
          "output_type": "execute_result"
        }
      ]
    },
    {
      "cell_type": "markdown",
      "metadata": {
        "id": "nPEDB_Rv0yL3"
      },
      "source": [
        "Платформы с наибольшими суммарными продажами:\n",
        "- PS2\n",
        "- X360\n",
        "- PS3\n",
        "- Wii\n",
        "- DS \n",
        "- PS    "
      ]
    },
    {
      "cell_type": "markdown",
      "metadata": {
        "id": "sOb66jqi0yL3"
      },
      "source": [
        "Построим распределение суммарных продаж по годам для каждой из вышеуказанных платформ."
      ]
    },
    {
      "cell_type": "code",
      "metadata": {
        "id": "fcjWqVZ50yL3",
        "outputId": "8782c5af-7b7d-445c-c3b2-68c5c462969e"
      },
      "source": [
        "plt.plot(df.query('platform == \"PS2\"').groupby('year_of_release')['total_sales'].sum(),label='PS2')\n",
        "plt.plot(df.query('platform == \"X360\"').groupby('year_of_release')['total_sales'].sum(),label='X360')\n",
        "plt.plot(df.query('platform == \"PS3\"').groupby('year_of_release')['total_sales'].sum(),label='PS3')\n",
        "plt.plot(df.query('platform == \"Wii\"').groupby('year_of_release')['total_sales'].sum(),label='Wii')\n",
        "plt.plot(df.query('platform == \"DS\"').groupby('year_of_release')['total_sales'].sum(),label='DS')\n",
        "plt.plot(df.query('platform == \"PS\"').groupby('year_of_release')['total_sales'].sum(),label='PS')\n",
        "\n",
        "plt.legend(bbox_to_anchor=(0., 1.02, 1., .102), loc='lower left',\n",
        "           ncol=2, mode=\"expand\", borderaxespad=0.)\n",
        "plt.show()"
      ],
      "execution_count": null,
      "outputs": [
        {
          "data": {
            "image/png": "[encoded data removed]",
            "text/plain": [
              "<Figure size 432x288 with 1 Axes>"
            ]
          },
          "metadata": {
            "needs_background": "light"
          },
          "output_type": "display_data"
        }
      ]
    },
    {
      "cell_type": "code",
      "metadata": {
        "id": "0Z7ei1pj0yL4",
        "outputId": "f6f9f930-4391-4406-e6a6-237e6bf4e388"
      },
      "source": [
        "platform_list = ['PS2','X360','PS3','Wii','DS','PS']\n",
        "platform_list\n",
        "platform_lifetime=[]\n",
        "for platform in platform_list:\n",
        "    lifetime = len(df.loc[df['platform'] == platform,'year_of_release'].unique())\n",
        "    platform_lifetime.append(lifetime)\n",
        "print(platform_lifetime, np.mean(platform_lifetime))"
      ],
      "execution_count": null,
      "outputs": [
        {
          "name": "stdout",
          "output_type": "stream",
          "text": [
            "[12, 12, 11, 11, 11, 10] 11.166666666666666\n"
          ]
        }
      ]
    },
    {
      "cell_type": "markdown",
      "metadata": {
        "id": "E_c409Ut0yL4"
      },
      "source": [
        "Такие платформы, как **PS**, **PS2** и **DS**, которые были на пике в 1995-2006 года, имеют сейчас нулевые продажи. Ориентируясь на вышепредставленный график, можно сделать вывод, что в целом платформы \"живут\" около 10 лет. По более точным данным, популярные платформы живут 11 лет."
      ]
    },
    {
      "cell_type": "markdown",
      "metadata": {
        "id": "Taa4FBLf0yL5"
      },
      "source": [
        "**3. Выбор релевантных данных**"
      ]
    },
    {
      "cell_type": "markdown",
      "metadata": {
        "id": "czWcwzMl0yL6"
      },
      "source": [
        "Если посмотреть на данные за все время, некоторые из платформ, которые являются лидерами по продажам, уже устарели, и им на замену пришли новые версии. Возьмем для анализа временной промежуток после 2012 года. В это время уже закончился пиковый период, и были представлены платформы наиболее популярные на данный момент. Исключим данные за предыдущие периоды.  "
      ]
    },
    {
      "cell_type": "code",
      "metadata": {
        "scrolled": false,
        "id": "8DhlSXTr0yL7",
        "outputId": "348ff687-7ccf-4c53-eeee-d63af9fbadbc"
      },
      "source": [
        "df=df[df['year_of_release']>=2012]\n",
        "df.head(10)"
      ],
      "execution_count": null,
      "outputs": [
        {
          "data": {
            "text/html": [
              "<div>\n",
              "<style scoped>\n",
              "    .dataframe tbody tr th:only-of-type {\n",
              "        vertical-align: middle;\n",
              "    }\n",
              "\n",
              "    .dataframe tbody tr th {\n",
              "        vertical-align: top;\n",
              "    }\n",
              "\n",
              "    .dataframe thead th {\n",
              "        text-align: right;\n",
              "    }\n",
              "</style>\n",
              "<table border=\"1\" class=\"dataframe\">\n",
              "  <thead>\n",
              "    <tr style=\"text-align: right;\">\n",
              "      <th></th>\n",
              "      <th>name</th>\n",
              "      <th>platform</th>\n",
              "      <th>year_of_release</th>\n",
              "      <th>genre</th>\n",
              "      <th>na_sales</th>\n",
              "      <th>eu_sales</th>\n",
              "      <th>jp_sales</th>\n",
              "      <th>other_sales</th>\n",
              "      <th>critic_score</th>\n",
              "      <th>user_score</th>\n",
              "      <th>rating</th>\n",
              "      <th>total_sales</th>\n",
              "    </tr>\n",
              "  </thead>\n",
              "  <tbody>\n",
              "    <tr>\n",
              "      <td>16</td>\n",
              "      <td>Grand Theft Auto V</td>\n",
              "      <td>PS3</td>\n",
              "      <td>2013</td>\n",
              "      <td>Action</td>\n",
              "      <td>7.02</td>\n",
              "      <td>9.09</td>\n",
              "      <td>0.98</td>\n",
              "      <td>3.96</td>\n",
              "      <td>97.0</td>\n",
              "      <td>8.2</td>\n",
              "      <td>M</td>\n",
              "      <td>21.05</td>\n",
              "    </tr>\n",
              "    <tr>\n",
              "      <td>23</td>\n",
              "      <td>Grand Theft Auto V</td>\n",
              "      <td>X360</td>\n",
              "      <td>2013</td>\n",
              "      <td>Action</td>\n",
              "      <td>9.66</td>\n",
              "      <td>5.14</td>\n",
              "      <td>0.06</td>\n",
              "      <td>1.41</td>\n",
              "      <td>97.0</td>\n",
              "      <td>8.1</td>\n",
              "      <td>M</td>\n",
              "      <td>16.27</td>\n",
              "    </tr>\n",
              "    <tr>\n",
              "      <td>31</td>\n",
              "      <td>Call of Duty: Black Ops 3</td>\n",
              "      <td>PS4</td>\n",
              "      <td>2015</td>\n",
              "      <td>Shooter</td>\n",
              "      <td>6.03</td>\n",
              "      <td>5.86</td>\n",
              "      <td>0.36</td>\n",
              "      <td>2.38</td>\n",
              "      <td>NaN</td>\n",
              "      <td>NaN</td>\n",
              "      <td>RP</td>\n",
              "      <td>14.63</td>\n",
              "    </tr>\n",
              "    <tr>\n",
              "      <td>33</td>\n",
              "      <td>Pokemon X/Pokemon Y</td>\n",
              "      <td>3DS</td>\n",
              "      <td>2013</td>\n",
              "      <td>Role-Playing</td>\n",
              "      <td>5.28</td>\n",
              "      <td>4.19</td>\n",
              "      <td>4.35</td>\n",
              "      <td>0.78</td>\n",
              "      <td>NaN</td>\n",
              "      <td>NaN</td>\n",
              "      <td>RP</td>\n",
              "      <td>14.60</td>\n",
              "    </tr>\n",
              "    <tr>\n",
              "      <td>34</td>\n",
              "      <td>Call of Duty: Black Ops II</td>\n",
              "      <td>PS3</td>\n",
              "      <td>2012</td>\n",
              "      <td>Shooter</td>\n",
              "      <td>4.99</td>\n",
              "      <td>5.73</td>\n",
              "      <td>0.65</td>\n",
              "      <td>2.42</td>\n",
              "      <td>83.0</td>\n",
              "      <td>5.3</td>\n",
              "      <td>M</td>\n",
              "      <td>13.79</td>\n",
              "    </tr>\n",
              "    <tr>\n",
              "      <td>35</td>\n",
              "      <td>Call of Duty: Black Ops II</td>\n",
              "      <td>X360</td>\n",
              "      <td>2012</td>\n",
              "      <td>Shooter</td>\n",
              "      <td>8.25</td>\n",
              "      <td>4.24</td>\n",
              "      <td>0.07</td>\n",
              "      <td>1.12</td>\n",
              "      <td>83.0</td>\n",
              "      <td>4.8</td>\n",
              "      <td>M</td>\n",
              "      <td>13.68</td>\n",
              "    </tr>\n",
              "    <tr>\n",
              "      <td>42</td>\n",
              "      <td>Grand Theft Auto V</td>\n",
              "      <td>PS4</td>\n",
              "      <td>2014</td>\n",
              "      <td>Action</td>\n",
              "      <td>3.96</td>\n",
              "      <td>6.31</td>\n",
              "      <td>0.38</td>\n",
              "      <td>1.97</td>\n",
              "      <td>97.0</td>\n",
              "      <td>8.3</td>\n",
              "      <td>M</td>\n",
              "      <td>12.62</td>\n",
              "    </tr>\n",
              "    <tr>\n",
              "      <td>47</td>\n",
              "      <td>Pokemon Omega Ruby/Pokemon Alpha Sapphire</td>\n",
              "      <td>3DS</td>\n",
              "      <td>2014</td>\n",
              "      <td>Role-Playing</td>\n",
              "      <td>4.35</td>\n",
              "      <td>3.49</td>\n",
              "      <td>3.10</td>\n",
              "      <td>0.74</td>\n",
              "      <td>NaN</td>\n",
              "      <td>NaN</td>\n",
              "      <td>RP</td>\n",
              "      <td>11.68</td>\n",
              "    </tr>\n",
              "    <tr>\n",
              "      <td>60</td>\n",
              "      <td>Call of Duty: Ghosts</td>\n",
              "      <td>X360</td>\n",
              "      <td>2013</td>\n",
              "      <td>Shooter</td>\n",
              "      <td>6.73</td>\n",
              "      <td>2.56</td>\n",
              "      <td>0.04</td>\n",
              "      <td>0.91</td>\n",
              "      <td>73.0</td>\n",
              "      <td>2.6</td>\n",
              "      <td>M</td>\n",
              "      <td>10.24</td>\n",
              "    </tr>\n",
              "    <tr>\n",
              "      <td>62</td>\n",
              "      <td>New Super Mario Bros. 2</td>\n",
              "      <td>3DS</td>\n",
              "      <td>2012</td>\n",
              "      <td>Platform</td>\n",
              "      <td>3.66</td>\n",
              "      <td>3.14</td>\n",
              "      <td>2.47</td>\n",
              "      <td>0.63</td>\n",
              "      <td>78.0</td>\n",
              "      <td>7.2</td>\n",
              "      <td>E</td>\n",
              "      <td>9.90</td>\n",
              "    </tr>\n",
              "  </tbody>\n",
              "</table>\n",
              "</div>"
            ],
            "text/plain": [
              "                                         name platform  year_of_release  \\\n",
              "16                         Grand Theft Auto V      PS3             2013   \n",
              "23                         Grand Theft Auto V     X360             2013   \n",
              "31                  Call of Duty: Black Ops 3      PS4             2015   \n",
              "33                        Pokemon X/Pokemon Y      3DS             2013   \n",
              "34                 Call of Duty: Black Ops II      PS3             2012   \n",
              "35                 Call of Duty: Black Ops II     X360             2012   \n",
              "42                         Grand Theft Auto V      PS4             2014   \n",
              "47  Pokemon Omega Ruby/Pokemon Alpha Sapphire      3DS             2014   \n",
              "60                       Call of Duty: Ghosts     X360             2013   \n",
              "62                    New Super Mario Bros. 2      3DS             2012   \n",
              "\n",
              "           genre  na_sales  eu_sales  jp_sales  other_sales  critic_score  \\\n",
              "16        Action      7.02      9.09      0.98         3.96          97.0   \n",
              "23        Action      9.66      5.14      0.06         1.41          97.0   \n",
              "31       Shooter      6.03      5.86      0.36         2.38           NaN   \n",
              "33  Role-Playing      5.28      4.19      4.35         0.78           NaN   \n",
              "34       Shooter      4.99      5.73      0.65         2.42          83.0   \n",
              "35       Shooter      8.25      4.24      0.07         1.12          83.0   \n",
              "42        Action      3.96      6.31      0.38         1.97          97.0   \n",
              "47  Role-Playing      4.35      3.49      3.10         0.74           NaN   \n",
              "60       Shooter      6.73      2.56      0.04         0.91          73.0   \n",
              "62      Platform      3.66      3.14      2.47         0.63          78.0   \n",
              "\n",
              "    user_score rating  total_sales  \n",
              "16         8.2      M        21.05  \n",
              "23         8.1      M        16.27  \n",
              "31         NaN     RP        14.63  \n",
              "33         NaN     RP        14.60  \n",
              "34         5.3      M        13.79  \n",
              "35         4.8      M        13.68  \n",
              "42         8.3      M        12.62  \n",
              "47         NaN     RP        11.68  \n",
              "60         2.6      M        10.24  \n",
              "62         7.2      E         9.90  "
            ]
          },
          "execution_count": 28,
          "metadata": {},
          "output_type": "execute_result"
        }
      ]
    },
    {
      "cell_type": "markdown",
      "metadata": {
        "id": "LowsuqJT0yL7"
      },
      "source": [
        "**4. Выбор лидирующих платформ**"
      ]
    },
    {
      "cell_type": "code",
      "metadata": {
        "id": "gX2Zte8a0yL7",
        "outputId": "776cdd08-1b80-4741-d055-72befaf828a8"
      },
      "source": [
        "plt.figure(figsize=(18, 8))\n",
        "for platform,group_data in df.groupby('platform'):\n",
        "    plt.plot(df.query('platform == @platform').groupby('year_of_release')['total_sales'].sum(),label=platform)\n",
        "plt.title(\"Продажи по платформам 2012-2016 гг. \")\n",
        "plt.ylabel(\"total_sales\")\n",
        "plt.legend(bbox_to_anchor=(0., 1.02, 1., .102), loc='lower right',\n",
        "           ncol=2,  borderaxespad=0.)\n",
        "plt.grid()"
      ],
      "execution_count": null,
      "outputs": [
        {
          "data": {
            "image/png": "[encoded data removed]",
            "text/plain": [
              "<Figure size 1296x576 with 1 Axes>"
            ]
          },
          "metadata": {
            "needs_background": "light"
          },
          "output_type": "display_data"
        }
      ]
    },
    {
      "cell_type": "code",
      "metadata": {
        "id": "3pC3WygN0yL8",
        "outputId": "51bde174-8b39-4793-b455-334e158a388c"
      },
      "source": [
        "sales_in_2016 = df.query('year_of_release==2016').groupby('platform')['total_sales'].sum().sort_values(ascending=False)\n",
        "sales_in_2016"
      ],
      "execution_count": null,
      "outputs": [
        {
          "data": {
            "text/plain": [
              "platform\n",
              "PS4     69.25\n",
              "XOne    26.15\n",
              "3DS     15.14\n",
              "PC       5.25\n",
              "WiiU     4.60\n",
              "PSV      4.25\n",
              "PS3      3.60\n",
              "X360     1.52\n",
              "Wii      0.18\n",
              "Name: total_sales, dtype: float64"
            ]
          },
          "execution_count": 30,
          "metadata": {},
          "output_type": "execute_result"
        }
      ]
    },
    {
      "cell_type": "markdown",
      "metadata": {
        "id": "d9Km9veE0yL8"
      },
      "source": [
        "В 2016 году лидирующими платформами являются:\n",
        "- PS4\n",
        "- XOne\n",
        "- 3DS"
      ]
    },
    {
      "cell_type": "markdown",
      "metadata": {
        "id": "zpMwex_E0yL9"
      },
      "source": [
        "Так же можно еще раз убедиться, что в целом по разным платформам суммарные продажи снижаются."
      ]
    },
    {
      "cell_type": "markdown",
      "metadata": {
        "id": "jRnu5j_N0yL9"
      },
      "source": [
        "**5. Глобальные продажи каждой игры**"
      ]
    },
    {
      "cell_type": "markdown",
      "metadata": {
        "id": "D9gF_2lg0yL9"
      },
      "source": [
        "Построим boxplot по глобальным продажам игр."
      ]
    },
    {
      "cell_type": "code",
      "metadata": {
        "id": "WyKZFydH0yL9",
        "outputId": "3aefaf5f-6bd8-46cc-ac4e-f69fc62065f1"
      },
      "source": [
        "df.boxplot(column='total_sales')\n",
        "plt.ylim(0, 1.1)\n"
      ],
      "execution_count": null,
      "outputs": [
        {
          "data": {
            "text/plain": [
              "(0, 1.1)"
            ]
          },
          "execution_count": 31,
          "metadata": {},
          "output_type": "execute_result"
        },
        {
          "data": {
            "image/png": "[encoded data removed]",
            "text/plain": [
              "<Figure size 432x288 with 1 Axes>"
            ]
          },
          "metadata": {
            "needs_background": "light"
          },
          "output_type": "display_data"
        }
      ]
    },
    {
      "cell_type": "markdown",
      "metadata": {
        "id": "e4wPKjTg0yL-"
      },
      "source": [
        "В среднем медиана продаж игр составляет 0,125 миллиона долларов, максимальные продажи - до 1 млн долларов."
      ]
    },
    {
      "cell_type": "markdown",
      "metadata": {
        "id": "ZyXD7fM00yL-"
      },
      "source": [
        "Построим boxplot по лидирующим платформам в 2016 году."
      ]
    },
    {
      "cell_type": "code",
      "metadata": {
        "id": "V3wUFDGu0yL-",
        "outputId": "a2de84aa-f7fd-483b-da8d-eb22d84694b8"
      },
      "source": [
        "fig = plt.figure(figsize=(20, 10))\n",
        "\n",
        "ax1 = fig.add_subplot(151)\n",
        "df.query('platform == \"PS4\"').boxplot(column='total_sales')\n",
        "ax1.set_title('PS4')\n",
        "\n",
        "ax2 = fig.add_subplot(152)\n",
        "df.query('platform == \"XOne\"').boxplot(column='total_sales')\n",
        "ax2.set_title('XOne')\n",
        "\n",
        "ax3 = fig.add_subplot(153)\n",
        "df.query('platform == \"3DS\"').boxplot(column='total_sales')\n",
        "ax3.set_title('3DS')\n",
        "\n",
        "ax4 = fig.add_subplot(154)\n",
        "df.query('platform == \"PC\"').boxplot(column='total_sales')\n",
        "ax4.set_title('PC')\n",
        "\n",
        "ax5 = fig.add_subplot(155)\n",
        "df.query('platform == \"WiiU\"').boxplot(column='total_sales')\n",
        "ax5.set_title('WiiU')"
      ],
      "execution_count": null,
      "outputs": [
        {
          "data": {
            "text/plain": [
              "Text(0.5, 1.0, 'WiiU')"
            ]
          },
          "execution_count": 32,
          "metadata": {},
          "output_type": "execute_result"
        },
        {
          "data": {
            "image/png": "[encoded data removed]",
            "text/plain": [
              "<Figure size 1440x720 with 5 Axes>"
            ]
          },
          "metadata": {
            "needs_background": "light"
          },
          "output_type": "display_data"
        }
      ]
    },
    {
      "cell_type": "markdown",
      "metadata": {
        "id": "nfjXq99u0yL-"
      },
      "source": [
        "Посмотрим на boxplotы поближе."
      ]
    },
    {
      "cell_type": "code",
      "metadata": {
        "scrolled": true,
        "id": "V_9gqabt0yL-",
        "outputId": "6a96967e-7bba-45de-ad69-dee953781d4e"
      },
      "source": [
        "fig = plt.figure(figsize=(20, 5))\n",
        "\n",
        "ax1 = fig.add_subplot(151)\n",
        "df.query('platform == \"PS4\"').boxplot(column='total_sales')\n",
        "ax1.set_ylim([0, 1])\n",
        "ax1.set_title('PS4')\n",
        "\n",
        "ax2 = fig.add_subplot(152)\n",
        "df.query('platform == \"XOne\"').boxplot(column='total_sales')\n",
        "ax2.set_ylim([0, 1])\n",
        "ax2.set_title('XOne')\n",
        "\n",
        "ax3 = fig.add_subplot(153)\n",
        "df.query('platform == \"3DS\"').boxplot(column='total_sales')\n",
        "ax3.set_ylim([0, 1])\n",
        "ax3.set_title('3DS')\n",
        "\n",
        "ax4 = fig.add_subplot(154)\n",
        "df.query('platform == \"PC\"').boxplot(column='total_sales')\n",
        "ax4.set_ylim([0, 1])\n",
        "ax4.set_title('PC')\n",
        "\n",
        "ax5 = fig.add_subplot(155)\n",
        "df.query('platform == \"WiiU\"').boxplot(column='total_sales')\n",
        "ax5.set_ylim([0, 1])\n",
        "ax5.set_title('WiiU')"
      ],
      "execution_count": null,
      "outputs": [
        {
          "data": {
            "text/plain": [
              "Text(0.5, 1.0, 'WiiU')"
            ]
          },
          "execution_count": 33,
          "metadata": {},
          "output_type": "execute_result"
        },
        {
          "data": {
            "image/png": "[encoded data removed]",
            "text/plain": [
              "<Figure size 1440x360 with 5 Axes>"
            ]
          },
          "metadata": {
            "needs_background": "light"
          },
          "output_type": "display_data"
        }
      ]
    },
    {
      "cell_type": "markdown",
      "metadata": {
        "id": "2BW89v8q0yL_"
      },
      "source": [
        "В основном на топовых платформам медиана продаж находится около 0,2 млн долларов. Максимальное значение, после которых начинаются выбросы у платформ **PS4** и **X360**  находятся на уровне около 1,7 млн долларов. У платформы **PC** самая маленькая медиана, она меньше 0,1 млн долларов, при этом максимальное значение около 0,6 млн. "
      ]
    },
    {
      "cell_type": "markdown",
      "metadata": {
        "id": "YnSdjXdE0yL_"
      },
      "source": [
        "У платформ **PS4** и **X360** продажи очень похожи, скорее всего это вызвано тем, что многие игры выпускаются одновременно на обе платформы. Всё же существует некоторая разница, она может быть следствием эксклюзивных выпусков игр для каждой из платформ. Если говорить о платформе **3DS** И **PC**, графики показывают, что эти платформы уступают по популярности первым двум."
      ]
    },
    {
      "cell_type": "markdown",
      "metadata": {
        "id": "-2PdYMTi0yL_"
      },
      "source": [
        "**6. Влияние отзывов на продажи**"
      ]
    },
    {
      "cell_type": "markdown",
      "metadata": {
        "id": "x1rJ5b4L0yMA"
      },
      "source": [
        "Для анализа я решила взять платоформу **PS3**, она достаточно давно на рынке и пока еще жива (на 2016). Её продажи в целом тоже хорошие."
      ]
    },
    {
      "cell_type": "code",
      "metadata": {
        "id": "YIrQuYfU0yMA",
        "outputId": "1dda6f20-a3bb-46ae-de30-2959d96adf11"
      },
      "source": [
        "ps3 = df[df['platform'] == 'PS3']\n",
        "ps3.head()"
      ],
      "execution_count": null,
      "outputs": [
        {
          "data": {
            "text/html": [
              "<div>\n",
              "<style scoped>\n",
              "    .dataframe tbody tr th:only-of-type {\n",
              "        vertical-align: middle;\n",
              "    }\n",
              "\n",
              "    .dataframe tbody tr th {\n",
              "        vertical-align: top;\n",
              "    }\n",
              "\n",
              "    .dataframe thead th {\n",
              "        text-align: right;\n",
              "    }\n",
              "</style>\n",
              "<table border=\"1\" class=\"dataframe\">\n",
              "  <thead>\n",
              "    <tr style=\"text-align: right;\">\n",
              "      <th></th>\n",
              "      <th>name</th>\n",
              "      <th>platform</th>\n",
              "      <th>year_of_release</th>\n",
              "      <th>genre</th>\n",
              "      <th>na_sales</th>\n",
              "      <th>eu_sales</th>\n",
              "      <th>jp_sales</th>\n",
              "      <th>other_sales</th>\n",
              "      <th>critic_score</th>\n",
              "      <th>user_score</th>\n",
              "      <th>rating</th>\n",
              "      <th>total_sales</th>\n",
              "    </tr>\n",
              "  </thead>\n",
              "  <tbody>\n",
              "    <tr>\n",
              "      <td>16</td>\n",
              "      <td>Grand Theft Auto V</td>\n",
              "      <td>PS3</td>\n",
              "      <td>2013</td>\n",
              "      <td>Action</td>\n",
              "      <td>7.02</td>\n",
              "      <td>9.09</td>\n",
              "      <td>0.98</td>\n",
              "      <td>3.96</td>\n",
              "      <td>97.0</td>\n",
              "      <td>8.2</td>\n",
              "      <td>M</td>\n",
              "      <td>21.05</td>\n",
              "    </tr>\n",
              "    <tr>\n",
              "      <td>34</td>\n",
              "      <td>Call of Duty: Black Ops II</td>\n",
              "      <td>PS3</td>\n",
              "      <td>2012</td>\n",
              "      <td>Shooter</td>\n",
              "      <td>4.99</td>\n",
              "      <td>5.73</td>\n",
              "      <td>0.65</td>\n",
              "      <td>2.42</td>\n",
              "      <td>83.0</td>\n",
              "      <td>5.3</td>\n",
              "      <td>M</td>\n",
              "      <td>13.79</td>\n",
              "    </tr>\n",
              "    <tr>\n",
              "      <td>69</td>\n",
              "      <td>Call of Duty: Ghosts</td>\n",
              "      <td>PS3</td>\n",
              "      <td>2013</td>\n",
              "      <td>Shooter</td>\n",
              "      <td>4.10</td>\n",
              "      <td>3.63</td>\n",
              "      <td>0.38</td>\n",
              "      <td>1.25</td>\n",
              "      <td>71.0</td>\n",
              "      <td>2.6</td>\n",
              "      <td>M</td>\n",
              "      <td>9.36</td>\n",
              "    </tr>\n",
              "    <tr>\n",
              "      <td>81</td>\n",
              "      <td>FIFA Soccer 13</td>\n",
              "      <td>PS3</td>\n",
              "      <td>2012</td>\n",
              "      <td>Action</td>\n",
              "      <td>1.06</td>\n",
              "      <td>5.01</td>\n",
              "      <td>0.13</td>\n",
              "      <td>1.97</td>\n",
              "      <td>88.0</td>\n",
              "      <td>6.6</td>\n",
              "      <td>E</td>\n",
              "      <td>8.17</td>\n",
              "    </tr>\n",
              "    <tr>\n",
              "      <td>126</td>\n",
              "      <td>FIFA 14</td>\n",
              "      <td>PS3</td>\n",
              "      <td>2013</td>\n",
              "      <td>Sports</td>\n",
              "      <td>0.78</td>\n",
              "      <td>4.24</td>\n",
              "      <td>0.07</td>\n",
              "      <td>1.37</td>\n",
              "      <td>86.0</td>\n",
              "      <td>4.3</td>\n",
              "      <td>E</td>\n",
              "      <td>6.46</td>\n",
              "    </tr>\n",
              "  </tbody>\n",
              "</table>\n",
              "</div>"
            ],
            "text/plain": [
              "                           name platform  year_of_release    genre  na_sales  \\\n",
              "16           Grand Theft Auto V      PS3             2013   Action      7.02   \n",
              "34   Call of Duty: Black Ops II      PS3             2012  Shooter      4.99   \n",
              "69         Call of Duty: Ghosts      PS3             2013  Shooter      4.10   \n",
              "81               FIFA Soccer 13      PS3             2012   Action      1.06   \n",
              "126                     FIFA 14      PS3             2013   Sports      0.78   \n",
              "\n",
              "     eu_sales  jp_sales  other_sales  critic_score  user_score rating  \\\n",
              "16       9.09      0.98         3.96          97.0         8.2      M   \n",
              "34       5.73      0.65         2.42          83.0         5.3      M   \n",
              "69       3.63      0.38         1.25          71.0         2.6      M   \n",
              "81       5.01      0.13         1.97          88.0         6.6      E   \n",
              "126      4.24      0.07         1.37          86.0         4.3      E   \n",
              "\n",
              "     total_sales  \n",
              "16         21.05  \n",
              "34         13.79  \n",
              "69          9.36  \n",
              "81          8.17  \n",
              "126         6.46  "
            ]
          },
          "execution_count": 34,
          "metadata": {},
          "output_type": "execute_result"
        }
      ]
    },
    {
      "cell_type": "markdown",
      "metadata": {
        "id": "Bas0GSfs0yMA"
      },
      "source": [
        "**Отзывы пользователей и продажи**"
      ]
    },
    {
      "cell_type": "code",
      "metadata": {
        "scrolled": true,
        "id": "klWikoS_0yMB",
        "outputId": "355d1bef-9f8a-46f7-fc1a-1d6a0f0b21a6"
      },
      "source": [
        "ps3.plot(x='user_score', y='total_sales', kind='scatter',alpha=0.3)"
      ],
      "execution_count": null,
      "outputs": [
        {
          "data": {
            "text/plain": [
              "<matplotlib.axes._subplots.AxesSubplot at 0x7f2d318cf710>"
            ]
          },
          "execution_count": 35,
          "metadata": {},
          "output_type": "execute_result"
        },
        {
          "data": {
            "image/png": "[encoded data removed]",
            "text/plain": [
              "<Figure size 432x288 with 1 Axes>"
            ]
          },
          "metadata": {
            "needs_background": "light"
          },
          "output_type": "display_data"
        }
      ]
    },
    {
      "cell_type": "markdown",
      "metadata": {
        "id": "S0XDQc9l0yMB"
      },
      "source": [
        "Исходя из графика связь очень слабая. Посмотрим на коэффициент коррреляции."
      ]
    },
    {
      "cell_type": "code",
      "metadata": {
        "id": "ij1-rma-0yMB",
        "outputId": "a8d83e41-6f87-46ed-d1ec-45025c1d79c0"
      },
      "source": [
        "print(ps3['user_score'].corr(ps3['total_sales']))"
      ],
      "execution_count": null,
      "outputs": [
        {
          "name": "stdout",
          "output_type": "stream",
          "text": [
            "-0.005143522887113815\n"
          ]
        }
      ]
    },
    {
      "cell_type": "markdown",
      "metadata": {
        "id": "tGHTFcQF0yMC"
      },
      "source": [
        "Как и ожидалось, мы видим, что связь практически отсутствует, посмотрим, есть ли связь между оценками критиков и продажами."
      ]
    },
    {
      "cell_type": "markdown",
      "metadata": {
        "id": "UwZUz2d80yMC"
      },
      "source": [
        "**Отзывы критиков и продажи**"
      ]
    },
    {
      "cell_type": "code",
      "metadata": {
        "scrolled": true,
        "id": "WnqqHjsH0yMC",
        "outputId": "86406d5e-9499-422c-93e8-b8615b925ea3"
      },
      "source": [
        "ps3.plot(x='critic_score', y='total_sales', kind='scatter',alpha=0.3)"
      ],
      "execution_count": null,
      "outputs": [
        {
          "data": {
            "text/plain": [
              "<matplotlib.axes._subplots.AxesSubplot at 0x7f2d0ba2d150>"
            ]
          },
          "execution_count": 37,
          "metadata": {},
          "output_type": "execute_result"
        },
        {
          "data": {
            "image/png": "[encoded data removed]",
            "text/plain": [
              "<Figure size 432x288 with 1 Axes>"
            ]
          },
          "metadata": {
            "needs_background": "light"
          },
          "output_type": "display_data"
        }
      ]
    },
    {
      "cell_type": "markdown",
      "metadata": {
        "id": "8FeCBGvu0yMD"
      },
      "source": [
        "С увеличением рейтинга от критиков увеличиваются и суммарные продажи, но свзяь умеренная, не сильная. Посмотрим на коэффициент коррреляции."
      ]
    },
    {
      "cell_type": "code",
      "metadata": {
        "id": "3Y3qC93a0yMD",
        "outputId": "16a48322-52bd-4848-cff4-e1a6d922b5f9"
      },
      "source": [
        "print(ps3['critic_score'].corr(ps3['total_sales']))"
      ],
      "execution_count": null,
      "outputs": [
        {
          "name": "stdout",
          "output_type": "stream",
          "text": [
            "0.3314972592629587\n"
          ]
        }
      ]
    },
    {
      "cell_type": "markdown",
      "metadata": {
        "id": "ITwldv250yMD"
      },
      "source": [
        "Как и ожидалось мы видим положительную связь, однако значение в 0,33 говорят, что связь не сильная."
      ]
    },
    {
      "cell_type": "markdown",
      "metadata": {
        "id": "85eY8XVj0yMD"
      },
      "source": [
        "**Вывод**  \n",
        "Связь между оценками пользователей и продажами практически отсутствует, умеренная положительная связь наблюдается между оценками критиков и продажами. Скорее всего это связано с тем, что у людей могут быть разные мнения и вкусы в играх, поэтому они ориентируюся больше на себя, чем на отзывы других людей. Однако они могут обратить внимание на оценки экспертов.\n"
      ]
    },
    {
      "cell_type": "markdown",
      "metadata": {
        "id": "LhHp9gAH0yME"
      },
      "source": [
        "**Корреляция на других платформах**"
      ]
    },
    {
      "cell_type": "markdown",
      "metadata": {
        "id": "-jhaZ4bB0yME"
      },
      "source": [
        "Посмотрим справедливо ли это для других платформ. Возьмем топ 3 платформы в 2016 году, и посмотрим на их коэффициенты корреляции."
      ]
    },
    {
      "cell_type": "markdown",
      "metadata": {
        "id": "Cpsqwirv0yME"
      },
      "source": [
        "- **PS4** "
      ]
    },
    {
      "cell_type": "code",
      "metadata": {
        "id": "3H637WCn0yME",
        "outputId": "f07d7471-ee11-4c52-ad23-274833fb37f4"
      },
      "source": [
        "ps4 = df[df['platform'] == 'PS4']\n",
        "print(\"Коэффициент корреляции между оценками пользователей и продажами:\" , ps4['user_score'].corr(ps4['total_sales']))\n",
        "print(\"Коэффициент корреляции между оценками критиков и продажами:\" ,ps4['critic_score'].corr(ps4['total_sales']))"
      ],
      "execution_count": null,
      "outputs": [
        {
          "name": "stdout",
          "output_type": "stream",
          "text": [
            "Коэффициент корреляции между оценками пользователей и продажами: -0.031957110204556424\n",
            "Коэффициент корреляции между оценками критиков и продажами: 0.40656790206178095\n"
          ]
        }
      ]
    },
    {
      "cell_type": "markdown",
      "metadata": {
        "id": "oEDhgya80yMF"
      },
      "source": [
        "- **XOne**"
      ]
    },
    {
      "cell_type": "code",
      "metadata": {
        "id": "817dpz5X0yMF",
        "outputId": "50bc0f37-e689-4882-bbe1-473cb3db6854"
      },
      "source": [
        "xone = df[df['platform'] == 'XOne']\n",
        "print(\"Коэффициент корреляции между оценками отзывами пользователей и продажами:\" , xone['user_score'].corr(xone['total_sales']))\n",
        "print(\"Коэффициент корреляции между оценками критиков и продажами:\" ,xone['critic_score'].corr(xone['total_sales']))"
      ],
      "execution_count": null,
      "outputs": [
        {
          "name": "stdout",
          "output_type": "stream",
          "text": [
            "Коэффициент корреляции между оценками отзывами пользователей и продажами: -0.06892505328279414\n",
            "Коэффициент корреляции между оценками критиков и продажами: 0.4169983280084017\n"
          ]
        }
      ]
    },
    {
      "cell_type": "markdown",
      "metadata": {
        "id": "Ux0O462U0yMF"
      },
      "source": [
        "- **3DS**"
      ]
    },
    {
      "cell_type": "code",
      "metadata": {
        "id": "YWJRcZJi0yMF",
        "outputId": "f3133afd-e6e1-4a27-e681-6a0375d13316"
      },
      "source": [
        "ds3 = df[df['platform'] == '3DS']\n",
        "print(\"Коэффициент корреляции между оценками пользователей и продажами:\" , ds3['user_score'].corr(ds3['total_sales']))\n",
        "print(\"Коэффициент корреляции между оценками критиков и продажами:\" ,ds3['critic_score'].corr(ds3['total_sales']))"
      ],
      "execution_count": null,
      "outputs": [
        {
          "name": "stdout",
          "output_type": "stream",
          "text": [
            "Коэффициент корреляции между оценками пользователей и продажами: 0.19758263411038599\n",
            "Коэффициент корреляции между оценками критиков и продажами: 0.3208028695360785\n"
          ]
        }
      ]
    },
    {
      "cell_type": "markdown",
      "metadata": {
        "id": "HEVR4vrs0yMG"
      },
      "source": [
        "**Общий вывод о корреляции**  \n",
        "В целом оценки пользователей практически не имеют связи, либо очень слабую. Связь между оценками критиков, так же остаётся умеренной. Это может быть связано с тем, что игроки при выборе игры в основном полагаются на свои предпочтения, однако мнение критиков может побудить их приобрести игру."
      ]
    },
    {
      "cell_type": "markdown",
      "metadata": {
        "id": "CGsq1tKT0yMG"
      },
      "source": [
        "**7. Анализ игр по жанрам**"
      ]
    },
    {
      "cell_type": "markdown",
      "metadata": {
        "id": "eG_3nJJc0yMG"
      },
      "source": [
        "Отобразим на графике количество игр и суммарные продажи для каждого жанра, сделаем выводы."
      ]
    },
    {
      "cell_type": "code",
      "metadata": {
        "id": "fCECMCme0yMG",
        "outputId": "c9bf7121-b3de-4d02-f459-a046a5314a81"
      },
      "source": [
        "df.groupby('genre')['name'].count().sort_values(ascending=False).plot(kind='bar')\n",
        "plt.title('Количество игр по жанру')"
      ],
      "execution_count": null,
      "outputs": [
        {
          "data": {
            "text/plain": [
              "Text(0.5, 1.0, 'Количество игр по жанру')"
            ]
          },
          "execution_count": 42,
          "metadata": {},
          "output_type": "execute_result"
        },
        {
          "data": {
            "image/png": "[encoded data removed]",
            "text/plain": [
              "<Figure size 432x288 with 1 Axes>"
            ]
          },
          "metadata": {
            "needs_background": "light"
          },
          "output_type": "display_data"
        }
      ]
    },
    {
      "cell_type": "code",
      "metadata": {
        "id": "-MSQ3BgA0yMG",
        "outputId": "710b2aeb-a040-4cdb-f51a-dd3be23b985b"
      },
      "source": [
        "df.groupby('genre')['total_sales'].sum().sort_values(ascending=False).plot(kind='bar',color='orange')\n",
        "plt.title('Суммарные продажи по жанрам')"
      ],
      "execution_count": null,
      "outputs": [
        {
          "data": {
            "text/plain": [
              "Text(0.5, 1.0, 'Суммарные продажи по жанрам')"
            ]
          },
          "execution_count": 43,
          "metadata": {},
          "output_type": "execute_result"
        },
        {
          "data": {
            "image/png": "[encoded data removed]",
            "text/plain": [
              "<Figure size 432x288 with 1 Axes>"
            ]
          },
          "metadata": {
            "needs_background": "light"
          },
          "output_type": "display_data"
        }
      ]
    },
    {
      "cell_type": "markdown",
      "metadata": {
        "id": "NO1y_Ui-0yMH"
      },
      "source": [
        "Больше всего игр со следующими жанрами: **Action**, **Sports**, **игры разного жанра**. Меньше всего производится игр с жанрами **Puzzle** и **Strategy**. Самыми прибыльными являются жанры **Action**, **Sports** и **Shooter**.  \n",
        "При этом жанры **Action** и **Sports** имеют не очень большую разницу в продажах, в то время как количество игр данных жанров отличается почти в 2 раза. **Спортивные игры** выходят по большей части для консолей, в то время как **Action**, могут выходить, как для компьютера, так и для консолей, поэтому спрос на них в целом выше, а значит количество выпускаемых игр тоже. "
      ]
    },
    {
      "cell_type": "markdown",
      "metadata": {
        "id": "0laqpnoD0yMH"
      },
      "source": [
        "# Этап 4. Портрет пользователя по регионам"
      ]
    },
    {
      "cell_type": "markdown",
      "metadata": {
        "id": "UyqBPfjE0yMI"
      },
      "source": [
        "Проанализируем самые популярные платформы для каждого из регионов."
      ]
    },
    {
      "cell_type": "code",
      "metadata": {
        "id": "bBWNGfYL0yMI",
        "outputId": "1320d048-c69c-4a73-ffc1-66af5b0b2414"
      },
      "source": [
        "na_top_platforms = df.groupby('platform')['na_sales'].sum().sort_values(ascending=False)\n",
        "eu_top_platforms = df.groupby('platform')['eu_sales'].sum().sort_values(ascending=False)\n",
        "jp_top_platforms = df.groupby('platform')['jp_sales'].sum().sort_values(ascending=False)\n",
        "\n",
        "plt.figure(figsize=(12, 4))\n",
        "plt.subplot(1, 3, 1)\n",
        "na_top_platforms.head(5).plot.bar()\n",
        "plt.legend(bbox_to_anchor=(0., 1.02, 1., .102), loc='lower right', ncol=2,  borderaxespad=0.)\n",
        "\n",
        "plt.subplot(1, 3, 2)\n",
        "eu_top_platforms.head(5).plot.bar()\n",
        "plt.legend(bbox_to_anchor=(0., 1.02, 1., .102), loc='lower right', ncol=2,  borderaxespad=0.)\n",
        "\n",
        "plt.subplot(1, 3, 3)\n",
        "jp_top_platforms.head(5).plot.bar()\n",
        "plt.legend(bbox_to_anchor=(0., 1.02, 1., .102), loc='lower right', ncol=2,  borderaxespad=0.)"
      ],
      "execution_count": null,
      "outputs": [
        {
          "data": {
            "text/plain": [
              "<matplotlib.legend.Legend at 0x7f2d0b66cf90>"
            ]
          },
          "execution_count": 44,
          "metadata": {},
          "output_type": "execute_result"
        },
        {
          "data": {
            "image/png": "[encoded data removed]",
            "text/plain": [
              "<Figure size 864x288 with 3 Axes>"
            ]
          },
          "metadata": {
            "needs_background": "light"
          },
          "output_type": "display_data"
        }
      ]
    },
    {
      "cell_type": "markdown",
      "metadata": {
        "id": "tFokZy5v0yMI"
      },
      "source": [
        "В **Северной Америке** самыми популярными платформами являются **X360**,  **PS4** , **PS3**."
      ]
    },
    {
      "cell_type": "markdown",
      "metadata": {
        "id": "TD4JURZt0yMI"
      },
      "source": [
        "В **Европе** те же самые платформы являются популярными, однако первое место занимает **PS4** , а **X360** занимает третье. При этом продажи **X360** в **Северной Америке** и **PS4** в **Европе** находятся на одном уровне."
      ]
    },
    {
      "cell_type": "markdown",
      "metadata": {
        "id": "35LYvIhj0yMI"
      },
      "source": [
        "В **Японии** другие платформы пользуются популярностью. Первое место с большим отрывом занимает **3DS**, второе место у **PS3**, a **PSV** занимает 3 место, при этом ее продажи более чем в 2 раза меньше, чем продажи **3DS**."
      ]
    },
    {
      "cell_type": "markdown",
      "metadata": {
        "id": "KnWGcreR0yMI"
      },
      "source": [
        "Проанализируем самые популярные жанры для каждого из регионов."
      ]
    },
    {
      "cell_type": "code",
      "metadata": {
        "id": "SgeQYZwQ0yMJ",
        "outputId": "c7e442f3-a7d6-4c61-c186-4312decc427d"
      },
      "source": [
        "na_genre=df.groupby('genre')['na_sales'].sum().sort_values(ascending=False)\n",
        "eu_genre=df.groupby('genre')['eu_sales'].sum().sort_values(ascending=False)\n",
        "jp_genre=df.groupby('genre')['jp_sales'].sum().sort_values(ascending=False)\n",
        "\n",
        "plt.figure(figsize=(12, 4))\n",
        "plt.subplot(1, 3, 1)\n",
        "na_genre.head(5).plot.bar()\n",
        "plt.legend(bbox_to_anchor=(0., 1.02, 1., .102), loc='lower right', ncol=2,  borderaxespad=0.)\n",
        "\n",
        "plt.subplot(1, 3, 2)\n",
        "eu_genre.head(5).plot.bar()\n",
        "plt.legend(bbox_to_anchor=(0., 1.02, 1., .102), loc='lower right', ncol=2,  borderaxespad=0.)\n",
        "\n",
        "plt.subplot(1, 3, 3)\n",
        "jp_genre.head(5).plot.bar()\n",
        "plt.legend(bbox_to_anchor=(0., 1.02, 1., .102), loc='lower right', ncol=2,  borderaxespad=0.)"
      ],
      "execution_count": null,
      "outputs": [
        {
          "data": {
            "text/plain": [
              "<matplotlib.legend.Legend at 0x7f2d0b4d4850>"
            ]
          },
          "execution_count": 45,
          "metadata": {},
          "output_type": "execute_result"
        },
        {
          "data": {
            "image/png": "[encoded data removed]",
            "text/plain": [
              "<Figure size 864x288 with 3 Axes>"
            ]
          },
          "metadata": {
            "needs_background": "light"
          },
          "output_type": "display_data"
        }
      ]
    },
    {
      "cell_type": "markdown",
      "metadata": {
        "id": "mHt7FEMH0yMJ"
      },
      "source": [
        "В **Северной Америке** самыми популярными жанрами являются **Action**,  **Sports** , **Shooter**. В **Европе** ситуация аналогичная. Можно добавить, что в **Северной Америке** также предпочитают игры разного жанра, а в **Европе** гонки."
      ]
    },
    {
      "cell_type": "markdown",
      "metadata": {
        "id": "5yY0v6tJ0yMJ"
      },
      "source": [
        "В **Японии** совершенно другая ситуация, самыми популярными жанрами являются **Role-Playing**,  **Actions** , **игры разного жанра**. Это может быть связано с их менталитетом. "
      ]
    },
    {
      "cell_type": "markdown",
      "metadata": {
        "id": "YK__Hd250yMK"
      },
      "source": [
        "Проанализируем влияние рейтинга ESRB для каждого из регионов."
      ]
    },
    {
      "cell_type": "code",
      "metadata": {
        "id": "SJFnY6M50yMK",
        "outputId": "db09045f-9966-4fee-a1b4-3c03e8ea4e84"
      },
      "source": [
        "na_rating=df.groupby('rating')['na_sales'].sum().sort_values(ascending=False)\n",
        "eu_rating=df.groupby('rating')['eu_sales'].sum().sort_values(ascending=False)\n",
        "jp_rating=df.groupby('rating')['jp_sales'].sum().sort_values(ascending=False)\n",
        "\n",
        "plt.figure(figsize=(12, 4))\n",
        "plt.subplot(1, 3, 1)\n",
        "na_rating.plot.bar()\n",
        "plt.legend(bbox_to_anchor=(0., 1.02, 1., .102), loc='lower right', ncol=2,  borderaxespad=0.)\n",
        "\n",
        "plt.subplot(1, 3, 2)\n",
        "eu_rating.plot.bar()\n",
        "plt.legend(bbox_to_anchor=(0., 1.02, 1., .102), loc='lower right', ncol=2,  borderaxespad=0.)\n",
        "\n",
        "plt.subplot(1, 3, 3)\n",
        "jp_rating.plot.bar()\n",
        "plt.legend(bbox_to_anchor=(0., 1.02, 1., .102), loc='lower right', ncol=2,  borderaxespad=0.)"
      ],
      "execution_count": null,
      "outputs": [
        {
          "data": {
            "text/plain": [
              "<matplotlib.legend.Legend at 0x7f2d099a6f90>"
            ]
          },
          "execution_count": 46,
          "metadata": {},
          "output_type": "execute_result"
        },
        {
          "data": {
            "image/png": "[encoded data removed]",
            "text/plain": [
              "<Figure size 864x288 with 3 Axes>"
            ]
          },
          "metadata": {
            "needs_background": "light"
          },
          "output_type": "display_data"
        }
      ]
    },
    {
      "cell_type": "markdown",
      "metadata": {
        "id": "V2U_Z5Oo0yMK"
      },
      "source": [
        "В **Северной Америке** и **Европе** больше всего покупают игры **\"для взрослых\"** и игры **\"для всех\"**. Можно провести связь между популярными жанрами и рейтингом также. Например популярные спортинвые игры чаще всего относятся к категории \"для всех\", а игры жанра Shooter могут иметь возрастные ограничения из-за содержания."
      ]
    },
    {
      "cell_type": "markdown",
      "metadata": {
        "id": "RhxmsTbh0yML"
      },
      "source": [
        "В **Японии** ситуация другая, большинство покупаемых игр не имеют рейтинга. Это может быть связано с тем, что рейтинг ESRB был создан в **Северной Америке**. В **Японии** люди могут играть в свои игры, которым данный рейтинг не присвоен, либо они на него не ориентируются при выборе игр. Однако следующие 3 места занимают игры с таким же рейтингом как в **Северной Америке** и **Европе** - **\"для всех\"**, **\"для взрослых\"** и **\"подросткам\"**."
      ]
    },
    {
      "cell_type": "markdown",
      "metadata": {
        "id": "ayBInSdF0yML"
      },
      "source": [
        "# Этап 5. Исследование статистических показателей"
      ]
    },
    {
      "cell_type": "code",
      "metadata": {
        "id": "HT5qiZ0B0yMM",
        "outputId": "5df57772-9ec8-4dd3-b7e7-d3a6e34be8ce"
      },
      "source": [
        "df.head()"
      ],
      "execution_count": null,
      "outputs": [
        {
          "data": {
            "text/html": [
              "<div>\n",
              "<style scoped>\n",
              "    .dataframe tbody tr th:only-of-type {\n",
              "        vertical-align: middle;\n",
              "    }\n",
              "\n",
              "    .dataframe tbody tr th {\n",
              "        vertical-align: top;\n",
              "    }\n",
              "\n",
              "    .dataframe thead th {\n",
              "        text-align: right;\n",
              "    }\n",
              "</style>\n",
              "<table border=\"1\" class=\"dataframe\">\n",
              "  <thead>\n",
              "    <tr style=\"text-align: right;\">\n",
              "      <th></th>\n",
              "      <th>name</th>\n",
              "      <th>platform</th>\n",
              "      <th>year_of_release</th>\n",
              "      <th>genre</th>\n",
              "      <th>na_sales</th>\n",
              "      <th>eu_sales</th>\n",
              "      <th>jp_sales</th>\n",
              "      <th>other_sales</th>\n",
              "      <th>critic_score</th>\n",
              "      <th>user_score</th>\n",
              "      <th>rating</th>\n",
              "      <th>total_sales</th>\n",
              "    </tr>\n",
              "  </thead>\n",
              "  <tbody>\n",
              "    <tr>\n",
              "      <td>16</td>\n",
              "      <td>Grand Theft Auto V</td>\n",
              "      <td>PS3</td>\n",
              "      <td>2013</td>\n",
              "      <td>Action</td>\n",
              "      <td>7.02</td>\n",
              "      <td>9.09</td>\n",
              "      <td>0.98</td>\n",
              "      <td>3.96</td>\n",
              "      <td>97.0</td>\n",
              "      <td>8.2</td>\n",
              "      <td>M</td>\n",
              "      <td>21.05</td>\n",
              "    </tr>\n",
              "    <tr>\n",
              "      <td>23</td>\n",
              "      <td>Grand Theft Auto V</td>\n",
              "      <td>X360</td>\n",
              "      <td>2013</td>\n",
              "      <td>Action</td>\n",
              "      <td>9.66</td>\n",
              "      <td>5.14</td>\n",
              "      <td>0.06</td>\n",
              "      <td>1.41</td>\n",
              "      <td>97.0</td>\n",
              "      <td>8.1</td>\n",
              "      <td>M</td>\n",
              "      <td>16.27</td>\n",
              "    </tr>\n",
              "    <tr>\n",
              "      <td>31</td>\n",
              "      <td>Call of Duty: Black Ops 3</td>\n",
              "      <td>PS4</td>\n",
              "      <td>2015</td>\n",
              "      <td>Shooter</td>\n",
              "      <td>6.03</td>\n",
              "      <td>5.86</td>\n",
              "      <td>0.36</td>\n",
              "      <td>2.38</td>\n",
              "      <td>NaN</td>\n",
              "      <td>NaN</td>\n",
              "      <td>RP</td>\n",
              "      <td>14.63</td>\n",
              "    </tr>\n",
              "    <tr>\n",
              "      <td>33</td>\n",
              "      <td>Pokemon X/Pokemon Y</td>\n",
              "      <td>3DS</td>\n",
              "      <td>2013</td>\n",
              "      <td>Role-Playing</td>\n",
              "      <td>5.28</td>\n",
              "      <td>4.19</td>\n",
              "      <td>4.35</td>\n",
              "      <td>0.78</td>\n",
              "      <td>NaN</td>\n",
              "      <td>NaN</td>\n",
              "      <td>RP</td>\n",
              "      <td>14.60</td>\n",
              "    </tr>\n",
              "    <tr>\n",
              "      <td>34</td>\n",
              "      <td>Call of Duty: Black Ops II</td>\n",
              "      <td>PS3</td>\n",
              "      <td>2012</td>\n",
              "      <td>Shooter</td>\n",
              "      <td>4.99</td>\n",
              "      <td>5.73</td>\n",
              "      <td>0.65</td>\n",
              "      <td>2.42</td>\n",
              "      <td>83.0</td>\n",
              "      <td>5.3</td>\n",
              "      <td>M</td>\n",
              "      <td>13.79</td>\n",
              "    </tr>\n",
              "  </tbody>\n",
              "</table>\n",
              "</div>"
            ],
            "text/plain": [
              "                          name platform  year_of_release         genre  \\\n",
              "16          Grand Theft Auto V      PS3             2013        Action   \n",
              "23          Grand Theft Auto V     X360             2013        Action   \n",
              "31   Call of Duty: Black Ops 3      PS4             2015       Shooter   \n",
              "33         Pokemon X/Pokemon Y      3DS             2013  Role-Playing   \n",
              "34  Call of Duty: Black Ops II      PS3             2012       Shooter   \n",
              "\n",
              "    na_sales  eu_sales  jp_sales  other_sales  critic_score  user_score  \\\n",
              "16      7.02      9.09      0.98         3.96          97.0         8.2   \n",
              "23      9.66      5.14      0.06         1.41          97.0         8.1   \n",
              "31      6.03      5.86      0.36         2.38           NaN         NaN   \n",
              "33      5.28      4.19      4.35         0.78           NaN         NaN   \n",
              "34      4.99      5.73      0.65         2.42          83.0         5.3   \n",
              "\n",
              "   rating  total_sales  \n",
              "16      M        21.05  \n",
              "23      M        16.27  \n",
              "31     RP        14.63  \n",
              "33     RP        14.60  \n",
              "34      M        13.79  "
            ]
          },
          "execution_count": 47,
          "metadata": {},
          "output_type": "execute_result"
        }
      ]
    },
    {
      "cell_type": "code",
      "metadata": {
        "id": "BLRNOU1G0yMM"
      },
      "source": [
        "sports = df[df['genre']=='Sports']\n",
        "racing = df[df['genre']=='Racing']\n",
        "platform = df[df['genre']=='Platform']\n",
        "misc = df[df['genre']=='Misc']\n",
        "simulation = df[df['genre']=='Simulation']\n",
        "action = df[df['genre']=='Action']\n",
        "role_playing = df[df['genre']=='Role-Playing']\n",
        "puzzle = df[df['genre']=='Puzzle']\n",
        "shooter = df[df['genre']=='Shooter']\n",
        "fighting = df[df['genre']=='Fighting']\n",
        "adventure = df[df['genre']=='Adventure']\n",
        "strategy = df[df['genre']=='Strategy']"
      ],
      "execution_count": null,
      "outputs": []
    },
    {
      "cell_type": "markdown",
      "metadata": {
        "id": "Vm2g39f00yMM"
      },
      "source": [
        "Создадим сводную таблицу со статистическими показателями для каждого из жанра.\n"
      ]
    },
    {
      "cell_type": "code",
      "metadata": {
        "id": "62xpw_860yMO",
        "outputId": "4fd94dbe-ccd7-42ba-bf46-a5793f9f5d11"
      },
      "source": [
        "df.groupby('genre')[['critic_score', 'user_score']].agg(['mean', 'std', 'var'])"
      ],
      "execution_count": null,
      "outputs": [
        {
          "data": {
            "text/html": [
              "<div>\n",
              "<style scoped>\n",
              "    .dataframe tbody tr th:only-of-type {\n",
              "        vertical-align: middle;\n",
              "    }\n",
              "\n",
              "    .dataframe tbody tr th {\n",
              "        vertical-align: top;\n",
              "    }\n",
              "\n",
              "    .dataframe thead tr th {\n",
              "        text-align: left;\n",
              "    }\n",
              "\n",
              "    .dataframe thead tr:last-of-type th {\n",
              "        text-align: right;\n",
              "    }\n",
              "</style>\n",
              "<table border=\"1\" class=\"dataframe\">\n",
              "  <thead>\n",
              "    <tr>\n",
              "      <th></th>\n",
              "      <th colspan=\"3\" halign=\"left\">critic_score</th>\n",
              "      <th colspan=\"3\" halign=\"left\">user_score</th>\n",
              "    </tr>\n",
              "    <tr>\n",
              "      <th></th>\n",
              "      <th>mean</th>\n",
              "      <th>std</th>\n",
              "      <th>var</th>\n",
              "      <th>mean</th>\n",
              "      <th>std</th>\n",
              "      <th>var</th>\n",
              "    </tr>\n",
              "    <tr>\n",
              "      <th>genre</th>\n",
              "      <th></th>\n",
              "      <th></th>\n",
              "      <th></th>\n",
              "      <th></th>\n",
              "      <th></th>\n",
              "      <th></th>\n",
              "    </tr>\n",
              "  </thead>\n",
              "  <tbody>\n",
              "    <tr>\n",
              "      <td>Action</td>\n",
              "      <td>71.378440</td>\n",
              "      <td>12.093748</td>\n",
              "      <td>146.258753</td>\n",
              "      <td>6.825048</td>\n",
              "      <td>1.374440</td>\n",
              "      <td>1.889084</td>\n",
              "    </tr>\n",
              "    <tr>\n",
              "      <td>Adventure</td>\n",
              "      <td>72.661017</td>\n",
              "      <td>11.000956</td>\n",
              "      <td>121.021040</td>\n",
              "      <td>7.466667</td>\n",
              "      <td>1.277652</td>\n",
              "      <td>1.632394</td>\n",
              "    </tr>\n",
              "    <tr>\n",
              "      <td>Fighting</td>\n",
              "      <td>70.406250</td>\n",
              "      <td>13.407791</td>\n",
              "      <td>179.768849</td>\n",
              "      <td>6.895714</td>\n",
              "      <td>1.431269</td>\n",
              "      <td>2.048532</td>\n",
              "    </tr>\n",
              "    <tr>\n",
              "      <td>Misc</td>\n",
              "      <td>72.807018</td>\n",
              "      <td>10.054208</td>\n",
              "      <td>101.087093</td>\n",
              "      <td>6.938806</td>\n",
              "      <td>1.257939</td>\n",
              "      <td>1.582411</td>\n",
              "    </tr>\n",
              "    <tr>\n",
              "      <td>Platform</td>\n",
              "      <td>74.610169</td>\n",
              "      <td>13.713845</td>\n",
              "      <td>188.069550</td>\n",
              "      <td>6.806061</td>\n",
              "      <td>1.654447</td>\n",
              "      <td>2.737193</td>\n",
              "    </tr>\n",
              "    <tr>\n",
              "      <td>Puzzle</td>\n",
              "      <td>75.444444</td>\n",
              "      <td>6.948221</td>\n",
              "      <td>48.277778</td>\n",
              "      <td>7.633333</td>\n",
              "      <td>0.888819</td>\n",
              "      <td>0.790000</td>\n",
              "    </tr>\n",
              "    <tr>\n",
              "      <td>Racing</td>\n",
              "      <td>71.864198</td>\n",
              "      <td>12.543677</td>\n",
              "      <td>157.343827</td>\n",
              "      <td>6.151163</td>\n",
              "      <td>1.667597</td>\n",
              "      <td>2.780881</td>\n",
              "    </tr>\n",
              "    <tr>\n",
              "      <td>Role-Playing</td>\n",
              "      <td>73.049689</td>\n",
              "      <td>12.282509</td>\n",
              "      <td>150.860016</td>\n",
              "      <td>7.258480</td>\n",
              "      <td>1.278637</td>\n",
              "      <td>1.634913</td>\n",
              "    </tr>\n",
              "    <tr>\n",
              "      <td>Shooter</td>\n",
              "      <td>73.421965</td>\n",
              "      <td>12.445275</td>\n",
              "      <td>154.884864</td>\n",
              "      <td>6.435897</td>\n",
              "      <td>1.437188</td>\n",
              "      <td>2.065509</td>\n",
              "    </tr>\n",
              "    <tr>\n",
              "      <td>Simulation</td>\n",
              "      <td>66.615385</td>\n",
              "      <td>13.556151</td>\n",
              "      <td>183.769231</td>\n",
              "      <td>6.511905</td>\n",
              "      <td>1.812585</td>\n",
              "      <td>3.285465</td>\n",
              "    </tr>\n",
              "    <tr>\n",
              "      <td>Sports</td>\n",
              "      <td>72.895105</td>\n",
              "      <td>15.473154</td>\n",
              "      <td>239.418497</td>\n",
              "      <td>5.455897</td>\n",
              "      <td>1.738646</td>\n",
              "      <td>3.022890</td>\n",
              "    </tr>\n",
              "    <tr>\n",
              "      <td>Strategy</td>\n",
              "      <td>75.870968</td>\n",
              "      <td>12.515968</td>\n",
              "      <td>156.649462</td>\n",
              "      <td>6.420000</td>\n",
              "      <td>2.030908</td>\n",
              "      <td>4.124588</td>\n",
              "    </tr>\n",
              "  </tbody>\n",
              "</table>\n",
              "</div>"
            ],
            "text/plain": [
              "             critic_score                        user_score            \\\n",
              "                     mean        std         var       mean       std   \n",
              "genre                                                                   \n",
              "Action          71.378440  12.093748  146.258753   6.825048  1.374440   \n",
              "Adventure       72.661017  11.000956  121.021040   7.466667  1.277652   \n",
              "Fighting        70.406250  13.407791  179.768849   6.895714  1.431269   \n",
              "Misc            72.807018  10.054208  101.087093   6.938806  1.257939   \n",
              "Platform        74.610169  13.713845  188.069550   6.806061  1.654447   \n",
              "Puzzle          75.444444   6.948221   48.277778   7.633333  0.888819   \n",
              "Racing          71.864198  12.543677  157.343827   6.151163  1.667597   \n",
              "Role-Playing    73.049689  12.282509  150.860016   7.258480  1.278637   \n",
              "Shooter         73.421965  12.445275  154.884864   6.435897  1.437188   \n",
              "Simulation      66.615385  13.556151  183.769231   6.511905  1.812585   \n",
              "Sports          72.895105  15.473154  239.418497   5.455897  1.738646   \n",
              "Strategy        75.870968  12.515968  156.649462   6.420000  2.030908   \n",
              "\n",
              "                        \n",
              "                   var  \n",
              "genre                   \n",
              "Action        1.889084  \n",
              "Adventure     1.632394  \n",
              "Fighting      2.048532  \n",
              "Misc          1.582411  \n",
              "Platform      2.737193  \n",
              "Puzzle        0.790000  \n",
              "Racing        2.780881  \n",
              "Role-Playing  1.634913  \n",
              "Shooter       2.065509  \n",
              "Simulation    3.285465  \n",
              "Sports        3.022890  \n",
              "Strategy      4.124588  "
            ]
          },
          "execution_count": 50,
          "metadata": {},
          "output_type": "execute_result"
        }
      ]
    },
    {
      "cell_type": "markdown",
      "metadata": {
        "id": "HcnDNWrA0yMO"
      },
      "source": [
        "Построим гистограмы для оценок критиков."
      ]
    },
    {
      "cell_type": "code",
      "metadata": {
        "scrolled": true,
        "id": "iFg-dh1x0yMP",
        "outputId": "041b07eb-6268-47c1-d4cf-c3fd89d60ee2"
      },
      "source": [
        "fig = plt.figure(figsize=(20, 10))\n",
        "\n",
        "ax1 = fig.add_subplot(341)\n",
        "sports['critic_score'].hist()\n",
        "ax1.set_title('Sports')\n",
        "\n",
        "ax2 = fig.add_subplot(342)\n",
        "racing['critic_score'].hist()\n",
        "ax2.set_title('Racing')\n",
        "\n",
        "ax3 = fig.add_subplot(343)\n",
        "platform['critic_score'].hist()\n",
        "ax3.set_title('Platform')\n",
        "\n",
        "ax4 = fig.add_subplot(344)\n",
        "misc['critic_score'].hist()\n",
        "ax4.set_title('Misc')\n",
        "\n",
        "ax5 = fig.add_subplot(345)\n",
        "simulation['critic_score'].hist()\n",
        "ax5.set_title('Simulation')\n",
        "\n",
        "ax6 = fig.add_subplot(346)\n",
        "role_playing['critic_score'].hist()\n",
        "ax6.set_title('Role-Playing')\n",
        "\n",
        "ax7 = fig.add_subplot(347)\n",
        "puzzle['critic_score'].hist()\n",
        "ax7.set_title('Puzzle')\n",
        "\n",
        "ax8 = fig.add_subplot(348)\n",
        "shooter['critic_score'].hist()\n",
        "ax8.set_title('Shooter')\n",
        "\n",
        "ax9 = fig.add_subplot(349)\n",
        "action['critic_score'].hist()\n",
        "ax9.set_title('Action')\n",
        "ax9.set_xlabel('critic_score')\n",
        "\n",
        "ax10 = fig.add_subplot(3, 4, 10)\n",
        "fighting['critic_score'].hist()\n",
        "ax10.set_title('Fighting')\n",
        "ax10.set_xlabel('critic_score')\n",
        "\n",
        "ax11 = fig.add_subplot(3, 4, 11)\n",
        "adventure['critic_score'].hist()\n",
        "ax11.set_title('Adventure')\n",
        "ax11.set_xlabel('critic_score')\n",
        "\n",
        "ax12 = fig.add_subplot(3, 4, 12)\n",
        "strategy['critic_score'].hist()\n",
        "ax12.set_title('Strategy')\n",
        "ax12.set_xlabel('critic_score')"
      ],
      "execution_count": null,
      "outputs": [
        {
          "data": {
            "text/plain": [
              "Text(0.5, 0, 'critic_score')"
            ]
          },
          "execution_count": 51,
          "metadata": {},
          "output_type": "execute_result"
        },
        {
          "data": {
            "image/png": "[encoded data removed]",
            "text/plain": [
              "<Figure size 1440x720 with 12 Axes>"
            ]
          },
          "metadata": {
            "needs_background": "light"
          },
          "output_type": "display_data"
        }
      ]
    },
    {
      "cell_type": "markdown",
      "metadata": {
        "id": "qZ_NkcrS0yMQ"
      },
      "source": [
        "Построим гистограмы для пользовательских оценок."
      ]
    },
    {
      "cell_type": "code",
      "metadata": {
        "id": "q5pEhpn20yMQ",
        "outputId": "694e9889-7a05-4a46-d533-ca4a5c07bb9c"
      },
      "source": [
        "fig = plt.figure(figsize=(20, 10))\n",
        "\n",
        "ax1 = fig.add_subplot(341)\n",
        "sports['user_score'].hist()\n",
        "ax1.set_title('Sports')\n",
        "\n",
        "ax2 = fig.add_subplot(342)\n",
        "racing['user_score'].hist()\n",
        "ax2.set_title('Racing')\n",
        "\n",
        "ax3 = fig.add_subplot(343)\n",
        "platform['user_score'].hist()\n",
        "ax3.set_title('Platform')\n",
        "\n",
        "ax4 = fig.add_subplot(344)\n",
        "misc['user_score'].hist()\n",
        "ax4.set_title('Misc')\n",
        "\n",
        "ax5 = fig.add_subplot(345)\n",
        "simulation['user_score'].hist()\n",
        "ax5.set_title('Simulation')\n",
        "\n",
        "ax6 = fig.add_subplot(346)\n",
        "role_playing['user_score'].hist()\n",
        "ax6.set_title('Role-Playing')\n",
        "\n",
        "ax7 = fig.add_subplot(347)\n",
        "puzzle['user_score'].hist()\n",
        "ax7.set_title('Puzzle')\n",
        "\n",
        "ax8 = fig.add_subplot(348)\n",
        "shooter['user_score'].hist()\n",
        "ax8.set_title('Shooter')\n",
        "\n",
        "ax9 = fig.add_subplot(349)\n",
        "action['user_score'].hist()\n",
        "ax9.set_title('Action')\n",
        "ax9.set_xlabel('user_score')\n",
        "\n",
        "ax10 = fig.add_subplot(3, 4, 10)\n",
        "fighting['user_score'].hist()\n",
        "ax10.set_title('Fighting')\n",
        "ax10.set_xlabel('user_score')\n",
        "\n",
        "ax11 = fig.add_subplot(3, 4, 11)\n",
        "adventure['user_score'].hist()\n",
        "ax11.set_title('Adventure')\n",
        "ax11.set_xlabel('user_score')\n",
        "\n",
        "ax12 = fig.add_subplot(3, 4, 12)\n",
        "strategy['user_score'].hist()\n",
        "ax12.set_title('Strategy')\n",
        "ax12.set_xlabel('user_score')"
      ],
      "execution_count": null,
      "outputs": [
        {
          "data": {
            "text/plain": [
              "Text(0.5, 0, 'user_score')"
            ]
          },
          "execution_count": 52,
          "metadata": {},
          "output_type": "execute_result"
        },
        {
          "data": {
            "image/png": "[encoded data removed]",
            "text/plain": [
              "<Figure size 1440x720 with 12 Axes>"
            ]
          },
          "metadata": {
            "needs_background": "light"
          },
          "output_type": "display_data"
        }
      ]
    },
    {
      "cell_type": "markdown",
      "metadata": {
        "id": "aU_zA7DW0yMR"
      },
      "source": [
        "**Выводы**  \n",
        "\n",
        "По всем жанрам *средняя оценка критиков варьируется* **от 66.6 до 75.9**. Наибольшая средняя оценка критиков у игр жанра **Strategy**.  Наименьшая средняя оценка критиков у игр жанра **Simulation**. В основном в каждом из жанров значения оценок критиков имеют умеренный разброс. Наибольший разброс оценок критиков у игр с жанром  **Sports**, наименьший разброс оценок критиков у игр с жанром **Puzzle**, однако из графиков видно, что критики ставят жанру только оценки близкие к 70, 80 и чуть больше 85. Это может быть связано с тем, что большинство игр **Puzzle** одинаковые.  \n",
        "\n",
        "По всем жанрам *средняя пользовательская оценка* варьируется **от 5.5 до 7.6**. Наибольшая средняя пользовательская оценка у игр жанра **Puzzle**.  Оценки, выставляемые этому жанру, имеют похожее распределение, как и в случае с оценками критиков.  Наименьшая средняя пользовательская оценка у игр жанра **Sports**. В основном в каждом из жанров значения оценок пользователей находятся рядом со средним значением. Наименьший разброс пользовательских оценок у игр с жанром **Puzzle**, наибольший у **Strategy**.  \n",
        "\n",
        "Сравнивая графики пользовательских оценок и оценок критиков, можно сказать, что оценки по многим жанрам похожи.\n",
        "\n"
      ]
    },
    {
      "cell_type": "markdown",
      "metadata": {
        "id": "qLVX664s0yMS"
      },
      "source": [
        "Возможно распределения скошены влево, потому что хороших игр в целом больше чем плохих, и люди, и критики ставят больше оценок выше среднего. Другая возможная причина - люди играют в те игры, что им нравятся."
      ]
    },
    {
      "cell_type": "markdown",
      "metadata": {
        "id": "G5yLdWrh0yMT"
      },
      "source": [
        "# Этап 6. Проверка гипотез"
      ]
    },
    {
      "cell_type": "markdown",
      "metadata": {
        "id": "cB3wnpiw0yMT"
      },
      "source": [
        "**Гипотеза 1** Cредние пользовательские рейтинги платформ Xbox One и PC одинаковые."
      ]
    },
    {
      "cell_type": "markdown",
      "metadata": {
        "id": "oqS6_FNP0yMT"
      },
      "source": [
        "H0:Cредние пользовательские рейтинги платформ Xbox One и PC одинаковые.  \n",
        "H1:Cредние пользовательские рейтинги платформ Xbox One и PC разные."
      ]
    },
    {
      "cell_type": "code",
      "metadata": {
        "id": "WesJWCxR0yMT",
        "outputId": "64fefdb3-2f1b-40f5-b24f-ebba786a5006"
      },
      "source": [
        "xbox_one_rating = df[(df['platform']==\"XOne\") & (df['user_score'].isna()==False)]['user_score']\n",
        "pc_rating = df[(df['platform']==\"PC\") & (df['user_score'].isna()==False)]['user_score']\n",
        "\n",
        "alpha = 0.05\n",
        "results =st.ttest_ind(xbox_one_rating, pc_rating, equal_var = False)\n",
        "\n",
        "print('p-значение: ', results.pvalue)\n",
        "\n",
        "if results.pvalue < alpha:\n",
        "    print(\"Отвергаем нулевую гипотезу\")\n",
        "else:\n",
        "    print(\"Не получилось отвергнуть нулевую гипотезу\")"
      ],
      "execution_count": null,
      "outputs": [
        {
          "name": "stdout",
          "output_type": "stream",
          "text": [
            "p-значение:  0.5489537965134912\n",
            "Не получилось отвергнуть нулевую гипотезу\n"
          ]
        }
      ]
    },
    {
      "cell_type": "markdown",
      "metadata": {
        "id": "45QXew1f0yMU"
      },
      "source": [
        "Наблюдаемое значение не попало в критическую зону. Следовательно, у нас нет оснований отвергнуть нулевую гипотезу."
      ]
    },
    {
      "cell_type": "markdown",
      "metadata": {
        "id": "3gwkLden0yMV"
      },
      "source": [
        "**Гипотеза 2** Cредние пользовательские рейтинги жанров Action и Sports разные."
      ]
    },
    {
      "cell_type": "markdown",
      "metadata": {
        "id": "vA09PegC0yMV"
      },
      "source": [
        "H0:Cредние пользовательские рейтинги  жанров Action и Sports одинаковые.  \n",
        "H1:Cредние пользовательские рейтинги  жанров Action и Sports разные."
      ]
    },
    {
      "cell_type": "code",
      "metadata": {
        "id": "Ztrb58MD0yMV",
        "outputId": "2dfaa635-6ebe-4a06-a70d-aebfbfe23ee4"
      },
      "source": [
        "#action_rating = df[df['genre']==\"Action\"]['user_score']\n",
        "#sports_rating = df[df['genre']==\"Sports\"]['user_score']\n",
        "action_rating = df[(df['genre']==\"Action\") & (df['user_score'].isna()==False)]['user_score']\n",
        "sports_rating = df[(df['genre']==\"Sports\") & (df['user_score'].isna()==False)]['user_score']\n",
        "\n",
        "alpha = 0.05\n",
        "results =st.ttest_ind(action_rating, sports_rating)\n",
        "\n",
        "print('p-значение: ', results.pvalue)\n",
        "\n",
        "if results.pvalue < alpha:\n",
        "    print(\"Отвергаем нулевую гипотезу\")\n",
        "else:\n",
        "    print(\"Не получилось отвергнуть нулевую гипотезу\")\n"
      ],
      "execution_count": null,
      "outputs": [
        {
          "name": "stdout",
          "output_type": "stream",
          "text": [
            "p-значение:  3.7163089460934874e-26\n",
            "Отвергаем нулевую гипотезу\n"
          ]
        }
      ]
    },
    {
      "cell_type": "markdown",
      "metadata": {
        "id": "a3J7U_p30yMW"
      },
      "source": [
        "Наблюдаемое значение попало в критическую зону. Следовательно, у нас есть основания отвергнуть нулевую гипотезу.   \n",
        "Таким образом, средние пользовательские рейтинги  жанров Action и Sports разные. "
      ]
    },
    {
      "cell_type": "markdown",
      "metadata": {
        "id": "9ZENYhyF0yMX"
      },
      "source": [
        "# Этап 7. Выводы"
      ]
    },
    {
      "cell_type": "markdown",
      "metadata": {
        "id": "0MqQi8sV0yMX"
      },
      "source": [
        "Проведя анализ были выявлены следующие факторы:\n",
        "- с каждым годом суммарные продажи и количество выпускаемых игр уменьшаются,платформа в среднем живет 10 лет;\n",
        "- самые прибыльные платформы за все время PS2, X360, PS3, Wii, DS и PS;\n",
        "- на данный момент лидирующими платформами являются PS4, XOne и DS;\n",
        "- наблюдается положительная связь между оценками критиков и продажами, и отсутствует связь между оценками пользователей и продажами;\n",
        "- больше всего производится игр в жанре Action, Sports, а также игры разного жанра;\n",
        "- самыми прибыльными являются жанры Action, Sports и Shooter;\n",
        "\n",
        "Так же были исследованы предпочтения игроков из трех регионов: Северная Америка, Европа, Япония:\n",
        "- В Северной Америке самыми популярными платформами являются X360, PS4 , PS3. В Японии - 3DS, PS3, PSV;\n",
        "- Топ-3 любимых жанров в Северной Америке и Европе - Action, Sports , Shooter. В Японии - Role-Playing, Action, игры разного жанра;\n",
        "- В Северной Америке и Европе больше всего покупают игры \"для всех\", \"для взрослых\" и \"подросткам\".В Японии большинство популярных игр не имеют рейтинга.\n",
        "\n",
        "И были проверены 2 гипотезы. Из которых следует:\n",
        "- Cредние пользовательские рейтинги платформ Xbox One и PC одинаковые;\n",
        "- Cредние пользовательские рейтинги жанров Action и Sports разные. "
      ]
    },
    {
      "cell_type": "markdown",
      "metadata": {
        "id": "3OwOcYDF0yMX"
      },
      "source": [
        "Таким образом, магазин должен ориентироваться на лидирующие сейчас платформы - PS4, XOne и DS. Отдавать предпочтения таким жанрам, как Action, Sports , Shooter, Role-Playing и играм разного жанра. Стоит также уделить внимание играм с высокими оценками от критиков и рейтингами \"для всех\", \"для взрослых\" и \"подросткам\". Данные игры имеют большие продажи относительно других.\n"
      ]
    }
  ]
}